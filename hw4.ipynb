{
 "cells": [
  {
   "cell_type": "code",
   "execution_count": 2,
   "metadata": {},
   "outputs": [
    {
     "name": "stderr",
     "output_type": "stream",
     "text": [
      "C:\\Users\\dpkar\\AppData\\Roaming\\Python\\Python38\\site-packages\\pandas\\core\\computation\\expressions.py:20: UserWarning: Pandas requires version '2.7.3' or newer of 'numexpr' (version '2.7.1' currently installed).\n",
      "  from pandas.core.computation.check import NUMEXPR_INSTALLED\n"
     ]
    }
   ],
   "source": [
    "import pandas as pd\n",
    "import numpy as np"
   ]
  },
  {
   "cell_type": "code",
   "execution_count": 3,
   "metadata": {},
   "outputs": [],
   "source": [
    "from pandas.core.computation.check import NUMEXPR_INSTALLED"
   ]
  },
  {
   "cell_type": "markdown",
   "metadata": {},
   "source": [
    "### Part 1: Data Cleaning and Preprocessing\n",
    "#### 1.1 Load and Inspect the Dataset\n",
    "• Load the dataset and display its shape, column names, and data types.\n",
    "\n",
    "• Identify and list the number of missing values in each column.\n"
   ]
  },
  {
   "cell_type": "code",
   "execution_count": 55,
   "metadata": {},
   "outputs": [],
   "source": [
    "df = pd.read_csv('Building_Energy_Benchmarking.csv')\n"
   ]
  },
  {
   "cell_type": "code",
   "execution_count": 56,
   "metadata": {},
   "outputs": [
    {
     "data": {
      "text/plain": [
       "(494, 31)"
      ]
     },
     "execution_count": 56,
     "metadata": {},
     "output_type": "execute_result"
    }
   ],
   "source": [
    "df.shape\n",
    "\n",
    "# dataset is having 494 rows and 31 columns"
   ]
  },
  {
   "cell_type": "code",
   "execution_count": 57,
   "metadata": {},
   "outputs": [
    {
     "data": {
      "text/plain": [
       "Index(['Property Id', 'Property Name', 'Address 1', 'City', 'Postal Code',\n",
       "       'Province', 'Primary Property Type - Self Selected',\n",
       "       'Number of Buildings', 'Year Built',\n",
       "       'Property GFA - Self-Reported (m²)', 'ENERGY STAR Score',\n",
       "       'Site Energy Use (GJ)', 'Weather Normalized Site Energy Use (GJ)',\n",
       "       'Site EUI (GJ/m²)', 'Weather Normalized Site EUI (GJ/m²)',\n",
       "       'Source Energy Use (GJ)', 'Weather Normalized Source Energy Use (GJ)',\n",
       "       'Source EUI (GJ/m²)', 'Weather Normalized Source EUI (GJ/m²)',\n",
       "       'Total GHG Emissions (Metric Tons CO2e)',\n",
       "       'Total GHG Emissions Intensity (kgCO2e/m²)',\n",
       "       'Direct GHG Emissions (Metric Tons CO2e)',\n",
       "       'Direct GHG Emissions Intensity (kgCO2e/m²)',\n",
       "       'Electricity Use - Grid Purchase (kWh)', 'Natural Gas Use (GJ)',\n",
       "       'District Hot Water Use (GJ)',\n",
       "       'Electricity Use – Generated from Onsite Renewable Systems (kWh)',\n",
       "       'Green Power - Onsite and Offsite (kWh)',\n",
       "       'Avoided Emissions - Onsite and Offsite Green Power (Metric Tons CO2e)',\n",
       "       'Year Ending', 'Unique ID'],\n",
       "      dtype='object')"
      ]
     },
     "metadata": {},
     "output_type": "display_data"
    }
   ],
   "source": [
    "display(df.columns)"
   ]
  },
  {
   "cell_type": "code",
   "execution_count": 58,
   "metadata": {},
   "outputs": [
    {
     "name": "stdout",
     "output_type": "stream",
     "text": [
      "<class 'pandas.core.frame.DataFrame'>\n",
      "RangeIndex: 494 entries, 0 to 493\n",
      "Data columns (total 31 columns):\n",
      " #   Column                                                                 Non-Null Count  Dtype  \n",
      "---  ------                                                                 --------------  -----  \n",
      " 0   Property Id                                                            494 non-null    int64  \n",
      " 1   Property Name                                                          494 non-null    object \n",
      " 2   Address 1                                                              494 non-null    object \n",
      " 3   City                                                                   494 non-null    object \n",
      " 4   Postal Code                                                            494 non-null    object \n",
      " 5   Province                                                               494 non-null    object \n",
      " 6   Primary Property Type - Self Selected                                  494 non-null    object \n",
      " 7   Number of Buildings                                                    494 non-null    int64  \n",
      " 8   Year Built                                                             494 non-null    int64  \n",
      " 9   Property GFA - Self-Reported (m²)                                      494 non-null    object \n",
      " 10  ENERGY STAR Score                                                      165 non-null    float64\n",
      " 11  Site Energy Use (GJ)                                                   494 non-null    object \n",
      " 12  Weather Normalized Site Energy Use (GJ)                                494 non-null    object \n",
      " 13  Site EUI (GJ/m²)                                                       494 non-null    float64\n",
      " 14  Weather Normalized Site EUI (GJ/m²)                                    494 non-null    float64\n",
      " 15  Source Energy Use (GJ)                                                 494 non-null    object \n",
      " 16  Weather Normalized Source Energy Use (GJ)                              492 non-null    object \n",
      " 17  Source EUI (GJ/m²)                                                     494 non-null    float64\n",
      " 18  Weather Normalized Source EUI (GJ/m²)                                  494 non-null    float64\n",
      " 19  Total GHG Emissions (Metric Tons CO2e)                                 494 non-null    object \n",
      " 20  Total GHG Emissions Intensity (kgCO2e/m²)                              494 non-null    float64\n",
      " 21  Direct GHG Emissions (Metric Tons CO2e)                                494 non-null    object \n",
      " 22  Direct GHG Emissions Intensity (kgCO2e/m²)                             494 non-null    float64\n",
      " 23  Electricity Use - Grid Purchase (kWh)                                  494 non-null    object \n",
      " 24  Natural Gas Use (GJ)                                                   484 non-null    object \n",
      " 25  District Hot Water Use (GJ)                                            15 non-null     object \n",
      " 26  Electricity Use – Generated from Onsite Renewable Systems (kWh)        44 non-null     float64\n",
      " 27  Green Power - Onsite and Offsite (kWh)                                 296 non-null    float64\n",
      " 28  Avoided Emissions - Onsite and Offsite Green Power (Metric Tons CO2e)  296 non-null    float64\n",
      " 29  Year Ending                                                            494 non-null    int64  \n",
      " 30  Unique ID                                                              494 non-null    object \n",
      "dtypes: float64(10), int64(4), object(17)\n",
      "memory usage: 119.8+ KB\n"
     ]
    },
    {
     "data": {
      "text/plain": [
       "None"
      ]
     },
     "metadata": {},
     "output_type": "display_data"
    }
   ],
   "source": [
    "display(df.info())"
   ]
  },
  {
   "cell_type": "code",
   "execution_count": 59,
   "metadata": {},
   "outputs": [
    {
     "data": {
      "text/html": [
       "<div>\n",
       "<style scoped>\n",
       "    .dataframe tbody tr th:only-of-type {\n",
       "        vertical-align: middle;\n",
       "    }\n",
       "\n",
       "    .dataframe tbody tr th {\n",
       "        vertical-align: top;\n",
       "    }\n",
       "\n",
       "    .dataframe thead th {\n",
       "        text-align: right;\n",
       "    }\n",
       "</style>\n",
       "<table border=\"1\" class=\"dataframe\">\n",
       "  <thead>\n",
       "    <tr style=\"text-align: right;\">\n",
       "      <th></th>\n",
       "      <th>Property Id</th>\n",
       "      <th>Property Name</th>\n",
       "      <th>Address 1</th>\n",
       "      <th>City</th>\n",
       "      <th>Postal Code</th>\n",
       "      <th>Province</th>\n",
       "      <th>Primary Property Type - Self Selected</th>\n",
       "      <th>Number of Buildings</th>\n",
       "      <th>Year Built</th>\n",
       "      <th>Property GFA - Self-Reported (m²)</th>\n",
       "      <th>...</th>\n",
       "      <th>Direct GHG Emissions (Metric Tons CO2e)</th>\n",
       "      <th>Direct GHG Emissions Intensity (kgCO2e/m²)</th>\n",
       "      <th>Electricity Use - Grid Purchase (kWh)</th>\n",
       "      <th>Natural Gas Use (GJ)</th>\n",
       "      <th>District Hot Water Use (GJ)</th>\n",
       "      <th>Electricity Use – Generated from Onsite Renewable Systems (kWh)</th>\n",
       "      <th>Green Power - Onsite and Offsite (kWh)</th>\n",
       "      <th>Avoided Emissions - Onsite and Offsite Green Power (Metric Tons CO2e)</th>\n",
       "      <th>Year Ending</th>\n",
       "      <th>Unique ID</th>\n",
       "    </tr>\n",
       "  </thead>\n",
       "  <tbody>\n",
       "    <tr>\n",
       "      <th>0</th>\n",
       "      <td>10176804</td>\n",
       "      <td>Acadia Aquatic &amp; Fitness Centre</td>\n",
       "      <td>9009 Fairmount Dr SE</td>\n",
       "      <td>Calgary</td>\n",
       "      <td>T2H 0Z4</td>\n",
       "      <td>Alberta</td>\n",
       "      <td>Heated Swimming Pool</td>\n",
       "      <td>1</td>\n",
       "      <td>2010</td>\n",
       "      <td>1838</td>\n",
       "      <td>...</td>\n",
       "      <td>280</td>\n",
       "      <td>152.4</td>\n",
       "      <td>368616</td>\n",
       "      <td>5453</td>\n",
       "      <td>NaN</td>\n",
       "      <td>NaN</td>\n",
       "      <td>368616.0</td>\n",
       "      <td>171.0</td>\n",
       "      <td>2023</td>\n",
       "      <td>2023-10176804</td>\n",
       "    </tr>\n",
       "    <tr>\n",
       "      <th>1</th>\n",
       "      <td>6169481</td>\n",
       "      <td>Ad Valorem</td>\n",
       "      <td>2924 11 ST NE</td>\n",
       "      <td>Calgary</td>\n",
       "      <td>t2e7l7</td>\n",
       "      <td>Alberta</td>\n",
       "      <td>Office</td>\n",
       "      <td>1</td>\n",
       "      <td>1981</td>\n",
       "      <td>7770</td>\n",
       "      <td>...</td>\n",
       "      <td>243</td>\n",
       "      <td>31.2</td>\n",
       "      <td>1091854</td>\n",
       "      <td>4725</td>\n",
       "      <td>NaN</td>\n",
       "      <td>NaN</td>\n",
       "      <td>1091854.0</td>\n",
       "      <td>508.0</td>\n",
       "      <td>2023</td>\n",
       "      <td>2023-6169481</td>\n",
       "    </tr>\n",
       "    <tr>\n",
       "      <th>2</th>\n",
       "      <td>6305956</td>\n",
       "      <td>Alberta Trade Centre</td>\n",
       "      <td>315 10 AV SE</td>\n",
       "      <td>Calgary</td>\n",
       "      <td>T2G 0W2</td>\n",
       "      <td>Alberta</td>\n",
       "      <td>Office</td>\n",
       "      <td>1</td>\n",
       "      <td>1974</td>\n",
       "      <td>6681</td>\n",
       "      <td>...</td>\n",
       "      <td>0</td>\n",
       "      <td>0.0</td>\n",
       "      <td>508589</td>\n",
       "      <td>3</td>\n",
       "      <td>2180</td>\n",
       "      <td>NaN</td>\n",
       "      <td>508589.0</td>\n",
       "      <td>236.0</td>\n",
       "      <td>2023</td>\n",
       "      <td>2023-6305956</td>\n",
       "    </tr>\n",
       "    <tr>\n",
       "      <th>3</th>\n",
       "      <td>8854296</td>\n",
       "      <td>Andrew Davison</td>\n",
       "      <td>133 6 AV SE</td>\n",
       "      <td>Calgary</td>\n",
       "      <td>T2G0G2</td>\n",
       "      <td>Alberta</td>\n",
       "      <td>Office</td>\n",
       "      <td>1</td>\n",
       "      <td>1979</td>\n",
       "      <td>17468</td>\n",
       "      <td>...</td>\n",
       "      <td>26</td>\n",
       "      <td>1.5</td>\n",
       "      <td>1152308</td>\n",
       "      <td>506</td>\n",
       "      <td>6582</td>\n",
       "      <td>NaN</td>\n",
       "      <td>1152308.0</td>\n",
       "      <td>536.0</td>\n",
       "      <td>2023</td>\n",
       "      <td>2023-8854296</td>\n",
       "    </tr>\n",
       "    <tr>\n",
       "      <th>4</th>\n",
       "      <td>21988603</td>\n",
       "      <td>Animal Services Centre</td>\n",
       "      <td>2201 PORTLAND ST SE</td>\n",
       "      <td>Calgary</td>\n",
       "      <td>T2G 4M7</td>\n",
       "      <td>Alberta</td>\n",
       "      <td>Office</td>\n",
       "      <td>1</td>\n",
       "      <td>2000</td>\n",
       "      <td>2143</td>\n",
       "      <td>...</td>\n",
       "      <td>253</td>\n",
       "      <td>118.1</td>\n",
       "      <td>508594</td>\n",
       "      <td>4926</td>\n",
       "      <td>NaN</td>\n",
       "      <td>NaN</td>\n",
       "      <td>508594.0</td>\n",
       "      <td>236.0</td>\n",
       "      <td>2023</td>\n",
       "      <td>2023-21988603</td>\n",
       "    </tr>\n",
       "    <tr>\n",
       "      <th>5</th>\n",
       "      <td>21988595</td>\n",
       "      <td>Apparatus Repair Shop and Spare Apparatus Shop</td>\n",
       "      <td>1725 18 AV NE</td>\n",
       "      <td>Calgary</td>\n",
       "      <td>T2N 2H8</td>\n",
       "      <td>Alberta</td>\n",
       "      <td>Repair Services (Vehicle, Shoe, Locksmith, etc.)</td>\n",
       "      <td>2</td>\n",
       "      <td>2011</td>\n",
       "      <td>6632</td>\n",
       "      <td>...</td>\n",
       "      <td>179</td>\n",
       "      <td>26.9</td>\n",
       "      <td>604506</td>\n",
       "      <td>3480</td>\n",
       "      <td>NaN</td>\n",
       "      <td>NaN</td>\n",
       "      <td>604506.0</td>\n",
       "      <td>281.0</td>\n",
       "      <td>2023</td>\n",
       "      <td>2023-21988595</td>\n",
       "    </tr>\n",
       "    <tr>\n",
       "      <th>6</th>\n",
       "      <td>10417704</td>\n",
       "      <td>Beltline Aquatic &amp; Fitness Centre</td>\n",
       "      <td>221 12 Av SW</td>\n",
       "      <td>Calgary</td>\n",
       "      <td>T2R 0G9</td>\n",
       "      <td>Alberta</td>\n",
       "      <td>Fitness Center/Health Club/Gym</td>\n",
       "      <td>1</td>\n",
       "      <td>1988</td>\n",
       "      <td>1807</td>\n",
       "      <td>...</td>\n",
       "      <td>117</td>\n",
       "      <td>64.6</td>\n",
       "      <td>180718</td>\n",
       "      <td>2274</td>\n",
       "      <td>NaN</td>\n",
       "      <td>NaN</td>\n",
       "      <td>180718.0</td>\n",
       "      <td>84.0</td>\n",
       "      <td>2023</td>\n",
       "      <td>2023-10417704</td>\n",
       "    </tr>\n",
       "    <tr>\n",
       "      <th>7</th>\n",
       "      <td>9481172</td>\n",
       "      <td>Bob Bohan Aquatic and Fitness Centre</td>\n",
       "      <td>4812 14 Av SE</td>\n",
       "      <td>Calgary</td>\n",
       "      <td>T2AoK9</td>\n",
       "      <td>Alberta</td>\n",
       "      <td>Heated Swimming Pool</td>\n",
       "      <td>1</td>\n",
       "      <td>1976</td>\n",
       "      <td>1641</td>\n",
       "      <td>...</td>\n",
       "      <td>304</td>\n",
       "      <td>185.0</td>\n",
       "      <td>597416</td>\n",
       "      <td>5914</td>\n",
       "      <td>NaN</td>\n",
       "      <td>NaN</td>\n",
       "      <td>597416.0</td>\n",
       "      <td>278.0</td>\n",
       "      <td>2023</td>\n",
       "      <td>2023-9481172</td>\n",
       "    </tr>\n",
       "    <tr>\n",
       "      <th>8</th>\n",
       "      <td>10439156</td>\n",
       "      <td>Bowmont Civic Building</td>\n",
       "      <td>5000 Bowness Civic Building</td>\n",
       "      <td>Calgary</td>\n",
       "      <td>T3B 0B9</td>\n",
       "      <td>Alberta</td>\n",
       "      <td>Office</td>\n",
       "      <td>1</td>\n",
       "      <td>1974</td>\n",
       "      <td>832</td>\n",
       "      <td>...</td>\n",
       "      <td>24</td>\n",
       "      <td>28.8</td>\n",
       "      <td>62980</td>\n",
       "      <td>466</td>\n",
       "      <td>NaN</td>\n",
       "      <td>NaN</td>\n",
       "      <td>62980.0</td>\n",
       "      <td>29.0</td>\n",
       "      <td>2023</td>\n",
       "      <td>2023-10439156</td>\n",
       "    </tr>\n",
       "    <tr>\n",
       "      <th>9</th>\n",
       "      <td>8854297</td>\n",
       "      <td>Calgary Public Building</td>\n",
       "      <td>205 8 AV SE</td>\n",
       "      <td>Calgary</td>\n",
       "      <td>T2G0K7</td>\n",
       "      <td>Alberta</td>\n",
       "      <td>Office</td>\n",
       "      <td>1</td>\n",
       "      <td>1931</td>\n",
       "      <td>15195</td>\n",
       "      <td>...</td>\n",
       "      <td>240</td>\n",
       "      <td>15.8</td>\n",
       "      <td>873097</td>\n",
       "      <td>4666</td>\n",
       "      <td>NaN</td>\n",
       "      <td>NaN</td>\n",
       "      <td>873097.0</td>\n",
       "      <td>406.0</td>\n",
       "      <td>2023</td>\n",
       "      <td>2023-8854297</td>\n",
       "    </tr>\n",
       "  </tbody>\n",
       "</table>\n",
       "<p>10 rows × 31 columns</p>\n",
       "</div>"
      ],
      "text/plain": [
       "   Property Id                                   Property Name  \\\n",
       "0     10176804                 Acadia Aquatic & Fitness Centre   \n",
       "1      6169481                                      Ad Valorem   \n",
       "2      6305956                            Alberta Trade Centre   \n",
       "3      8854296                                  Andrew Davison   \n",
       "4     21988603                          Animal Services Centre   \n",
       "5     21988595  Apparatus Repair Shop and Spare Apparatus Shop   \n",
       "6     10417704               Beltline Aquatic & Fitness Centre   \n",
       "7      9481172            Bob Bohan Aquatic and Fitness Centre   \n",
       "8     10439156                          Bowmont Civic Building   \n",
       "9      8854297                         Calgary Public Building   \n",
       "\n",
       "                     Address 1     City Postal Code Province  \\\n",
       "0         9009 Fairmount Dr SE  Calgary     T2H 0Z4  Alberta   \n",
       "1                2924 11 ST NE  Calgary      t2e7l7  Alberta   \n",
       "2                 315 10 AV SE  Calgary     T2G 0W2  Alberta   \n",
       "3                  133 6 AV SE  Calgary      T2G0G2  Alberta   \n",
       "4          2201 PORTLAND ST SE  Calgary     T2G 4M7  Alberta   \n",
       "5                1725 18 AV NE  Calgary     T2N 2H8  Alberta   \n",
       "6                 221 12 Av SW  Calgary     T2R 0G9  Alberta   \n",
       "7                4812 14 Av SE  Calgary      T2AoK9  Alberta   \n",
       "8  5000 Bowness Civic Building  Calgary     T3B 0B9  Alberta   \n",
       "9                  205 8 AV SE  Calgary      T2G0K7  Alberta   \n",
       "\n",
       "              Primary Property Type - Self Selected  Number of Buildings  \\\n",
       "0                              Heated Swimming Pool                    1   \n",
       "1                                            Office                    1   \n",
       "2                                            Office                    1   \n",
       "3                                            Office                    1   \n",
       "4                                            Office                    1   \n",
       "5  Repair Services (Vehicle, Shoe, Locksmith, etc.)                    2   \n",
       "6                    Fitness Center/Health Club/Gym                    1   \n",
       "7                              Heated Swimming Pool                    1   \n",
       "8                                            Office                    1   \n",
       "9                                            Office                    1   \n",
       "\n",
       "   Year Built Property GFA - Self-Reported (m²)  ...  \\\n",
       "0        2010                              1838  ...   \n",
       "1        1981                              7770  ...   \n",
       "2        1974                              6681  ...   \n",
       "3        1979                             17468  ...   \n",
       "4        2000                              2143  ...   \n",
       "5        2011                              6632  ...   \n",
       "6        1988                              1807  ...   \n",
       "7        1976                              1641  ...   \n",
       "8        1974                               832  ...   \n",
       "9        1931                             15195  ...   \n",
       "\n",
       "   Direct GHG Emissions (Metric Tons CO2e)  \\\n",
       "0                                      280   \n",
       "1                                      243   \n",
       "2                                        0   \n",
       "3                                       26   \n",
       "4                                      253   \n",
       "5                                      179   \n",
       "6                                      117   \n",
       "7                                      304   \n",
       "8                                       24   \n",
       "9                                      240   \n",
       "\n",
       "  Direct GHG Emissions Intensity (kgCO2e/m²)  \\\n",
       "0                                      152.4   \n",
       "1                                       31.2   \n",
       "2                                        0.0   \n",
       "3                                        1.5   \n",
       "4                                      118.1   \n",
       "5                                       26.9   \n",
       "6                                       64.6   \n",
       "7                                      185.0   \n",
       "8                                       28.8   \n",
       "9                                       15.8   \n",
       "\n",
       "  Electricity Use - Grid Purchase (kWh)  Natural Gas Use (GJ)  \\\n",
       "0                                368616                  5453   \n",
       "1                               1091854                  4725   \n",
       "2                                508589                     3   \n",
       "3                               1152308                   506   \n",
       "4                                508594                  4926   \n",
       "5                                604506                  3480   \n",
       "6                                180718                  2274   \n",
       "7                                597416                  5914   \n",
       "8                                 62980                   466   \n",
       "9                                873097                  4666   \n",
       "\n",
       "   District Hot Water Use (GJ)  \\\n",
       "0                          NaN   \n",
       "1                          NaN   \n",
       "2                         2180   \n",
       "3                         6582   \n",
       "4                          NaN   \n",
       "5                          NaN   \n",
       "6                          NaN   \n",
       "7                          NaN   \n",
       "8                          NaN   \n",
       "9                          NaN   \n",
       "\n",
       "  Electricity Use – Generated from Onsite Renewable Systems (kWh)  \\\n",
       "0                                                NaN                \n",
       "1                                                NaN                \n",
       "2                                                NaN                \n",
       "3                                                NaN                \n",
       "4                                                NaN                \n",
       "5                                                NaN                \n",
       "6                                                NaN                \n",
       "7                                                NaN                \n",
       "8                                                NaN                \n",
       "9                                                NaN                \n",
       "\n",
       "  Green Power - Onsite and Offsite (kWh)  \\\n",
       "0                               368616.0   \n",
       "1                              1091854.0   \n",
       "2                               508589.0   \n",
       "3                              1152308.0   \n",
       "4                               508594.0   \n",
       "5                               604506.0   \n",
       "6                               180718.0   \n",
       "7                               597416.0   \n",
       "8                                62980.0   \n",
       "9                               873097.0   \n",
       "\n",
       "   Avoided Emissions - Onsite and Offsite Green Power (Metric Tons CO2e)  \\\n",
       "0                                              171.0                       \n",
       "1                                              508.0                       \n",
       "2                                              236.0                       \n",
       "3                                              536.0                       \n",
       "4                                              236.0                       \n",
       "5                                              281.0                       \n",
       "6                                               84.0                       \n",
       "7                                              278.0                       \n",
       "8                                               29.0                       \n",
       "9                                              406.0                       \n",
       "\n",
       "   Year Ending      Unique ID  \n",
       "0         2023  2023-10176804  \n",
       "1         2023   2023-6169481  \n",
       "2         2023   2023-6305956  \n",
       "3         2023   2023-8854296  \n",
       "4         2023  2023-21988603  \n",
       "5         2023  2023-21988595  \n",
       "6         2023  2023-10417704  \n",
       "7         2023   2023-9481172  \n",
       "8         2023  2023-10439156  \n",
       "9         2023   2023-8854297  \n",
       "\n",
       "[10 rows x 31 columns]"
      ]
     },
     "execution_count": 59,
     "metadata": {},
     "output_type": "execute_result"
    }
   ],
   "source": [
    "df.head(10)"
   ]
  },
  {
   "cell_type": "code",
   "execution_count": 60,
   "metadata": {},
   "outputs": [
    {
     "name": "stdout",
     "output_type": "stream",
     "text": [
      "The number of duplicated columns: 0\n"
     ]
    }
   ],
   "source": [
    "# to check for duplicated rows:\n",
    "df.duplicated().sum()\n",
    "\n",
    "print(f'The number of duplicated columns: {df.duplicated().sum()}')"
   ]
  },
  {
   "cell_type": "code",
   "execution_count": 61,
   "metadata": {},
   "outputs": [
    {
     "name": "stdout",
     "output_type": "stream",
     "text": [
      "The percent of missing values in each column: \n"
     ]
    },
    {
     "data": {
      "text/plain": [
       "Property Id                                                               0.000000\n",
       "Property Name                                                             0.000000\n",
       "Address 1                                                                 0.000000\n",
       "City                                                                      0.000000\n",
       "Postal Code                                                               0.000000\n",
       "Province                                                                  0.000000\n",
       "Primary Property Type - Self Selected                                     0.000000\n",
       "Number of Buildings                                                       0.000000\n",
       "Year Built                                                                0.000000\n",
       "Property GFA - Self-Reported (m²)                                         0.000000\n",
       "ENERGY STAR Score                                                        66.599190\n",
       "Site Energy Use (GJ)                                                      0.000000\n",
       "Weather Normalized Site Energy Use (GJ)                                   0.000000\n",
       "Site EUI (GJ/m²)                                                          0.000000\n",
       "Weather Normalized Site EUI (GJ/m²)                                       0.000000\n",
       "Source Energy Use (GJ)                                                    0.000000\n",
       "Weather Normalized Source Energy Use (GJ)                                 0.404858\n",
       "Source EUI (GJ/m²)                                                        0.000000\n",
       "Weather Normalized Source EUI (GJ/m²)                                     0.000000\n",
       "Total GHG Emissions (Metric Tons CO2e)                                    0.000000\n",
       "Total GHG Emissions Intensity (kgCO2e/m²)                                 0.000000\n",
       "Direct GHG Emissions (Metric Tons CO2e)                                   0.000000\n",
       "Direct GHG Emissions Intensity (kgCO2e/m²)                                0.000000\n",
       "Electricity Use - Grid Purchase (kWh)                                     0.000000\n",
       "Natural Gas Use (GJ)                                                      2.024291\n",
       "District Hot Water Use (GJ)                                              96.963563\n",
       "Electricity Use – Generated from Onsite Renewable Systems (kWh)          91.093117\n",
       "Green Power - Onsite and Offsite (kWh)                                   40.080972\n",
       "Avoided Emissions - Onsite and Offsite Green Power (Metric Tons CO2e)    40.080972\n",
       "Year Ending                                                               0.000000\n",
       "Unique ID                                                                 0.000000\n",
       "dtype: float64"
      ]
     },
     "metadata": {},
     "output_type": "display_data"
    },
    {
     "name": "stdout",
     "output_type": "stream",
     "text": [
      "\n",
      "\n",
      "The columns having more than 40% missing values\n"
     ]
    },
    {
     "data": {
      "text/plain": [
       "Index(['ENERGY STAR Score', 'District Hot Water Use (GJ)',\n",
       "       'Electricity Use – Generated from Onsite Renewable Systems (kWh)',\n",
       "       'Green Power - Onsite and Offsite (kWh)',\n",
       "       'Avoided Emissions - Onsite and Offsite Green Power (Metric Tons CO2e)'],\n",
       "      dtype='object')"
      ]
     },
     "metadata": {},
     "output_type": "display_data"
    }
   ],
   "source": [
    "# to display the number of missing values in each column\n",
    "print('The percent of missing values in each column: ')\n",
    "display(df.isna().sum()/len(df)*100 )\n",
    "\n",
    "print('\\n')\n",
    "\n",
    "print('The columns having more than 40% missing values')\n",
    "display(df.columns[df.isna().sum()/len(df)*100 > 40.0])"
   ]
  },
  {
   "cell_type": "markdown",
   "metadata": {},
   "source": [
    "#### 1.2 Handling Missing Data\n",
    "• Drop columns with more than 40% missing values.\n",
    "\n",
    "• For numerical columns, fill missing values with the median of their respective column.\n",
    "\n",
    "• For categorical columns, fill missing values with the mode of their respective column."
   ]
  },
  {
   "cell_type": "code",
   "execution_count": 62,
   "metadata": {},
   "outputs": [
    {
     "name": "stdout",
     "output_type": "stream",
     "text": [
      "The threshold for missing values in columns is 197.6 \n"
     ]
    }
   ],
   "source": [
    "# remove columns with more than 40% missing values\n",
    "\n",
    "column_threshold = 0.4*len(df)\n",
    "\n",
    "print(f'The threshold for missing values in columns is {round(column_threshold,3)} ')"
   ]
  },
  {
   "cell_type": "code",
   "execution_count": 63,
   "metadata": {},
   "outputs": [],
   "source": [
    "# remove the rows that have more than 40% missing values\n",
    "# df_na_removed = df.dropna(thresh = row_threshold, axis = 0)"
   ]
  },
  {
   "cell_type": "code",
   "execution_count": 64,
   "metadata": {},
   "outputs": [],
   "source": [
    "# remove the columns that have more than 40% missing values\n",
    "df_na_removed = df.dropna(thresh = column_threshold, axis = 1)"
   ]
  },
  {
   "cell_type": "code",
   "execution_count": 65,
   "metadata": {},
   "outputs": [
    {
     "data": {
      "text/plain": [
       "Property Id                                                               0.000000\n",
       "Property Name                                                             0.000000\n",
       "Address 1                                                                 0.000000\n",
       "City                                                                      0.000000\n",
       "Postal Code                                                               0.000000\n",
       "Province                                                                  0.000000\n",
       "Primary Property Type - Self Selected                                     0.000000\n",
       "Number of Buildings                                                       0.000000\n",
       "Year Built                                                                0.000000\n",
       "Property GFA - Self-Reported (m²)                                         0.000000\n",
       "Site Energy Use (GJ)                                                      0.000000\n",
       "Weather Normalized Site Energy Use (GJ)                                   0.000000\n",
       "Site EUI (GJ/m²)                                                          0.000000\n",
       "Weather Normalized Site EUI (GJ/m²)                                       0.000000\n",
       "Source Energy Use (GJ)                                                    0.000000\n",
       "Weather Normalized Source Energy Use (GJ)                                 0.404858\n",
       "Source EUI (GJ/m²)                                                        0.000000\n",
       "Weather Normalized Source EUI (GJ/m²)                                     0.000000\n",
       "Total GHG Emissions (Metric Tons CO2e)                                    0.000000\n",
       "Total GHG Emissions Intensity (kgCO2e/m²)                                 0.000000\n",
       "Direct GHG Emissions (Metric Tons CO2e)                                   0.000000\n",
       "Direct GHG Emissions Intensity (kgCO2e/m²)                                0.000000\n",
       "Electricity Use - Grid Purchase (kWh)                                     0.000000\n",
       "Natural Gas Use (GJ)                                                      2.024291\n",
       "Green Power - Onsite and Offsite (kWh)                                   40.080972\n",
       "Avoided Emissions - Onsite and Offsite Green Power (Metric Tons CO2e)    40.080972\n",
       "Year Ending                                                               0.000000\n",
       "Unique ID                                                                 0.000000\n",
       "dtype: float64"
      ]
     },
     "execution_count": 65,
     "metadata": {},
     "output_type": "execute_result"
    }
   ],
   "source": [
    "df_na_removed.isna().sum()/len(df_na_removed)*100"
   ]
  },
  {
   "cell_type": "code",
   "execution_count": 66,
   "metadata": {},
   "outputs": [
    {
     "data": {
      "text/plain": [
       "(494, 28)"
      ]
     },
     "execution_count": 66,
     "metadata": {},
     "output_type": "execute_result"
    }
   ],
   "source": [
    "df_na_removed.shape"
   ]
  },
  {
   "cell_type": "code",
   "execution_count": 67,
   "metadata": {},
   "outputs": [
    {
     "data": {
      "text/plain": [
       "(494, 31)"
      ]
     },
     "execution_count": 67,
     "metadata": {},
     "output_type": "execute_result"
    }
   ],
   "source": [
    "df.shape"
   ]
  },
  {
   "cell_type": "code",
   "execution_count": 68,
   "metadata": {},
   "outputs": [
    {
     "data": {
      "text/html": [
       "<div>\n",
       "<style scoped>\n",
       "    .dataframe tbody tr th:only-of-type {\n",
       "        vertical-align: middle;\n",
       "    }\n",
       "\n",
       "    .dataframe tbody tr th {\n",
       "        vertical-align: top;\n",
       "    }\n",
       "\n",
       "    .dataframe thead th {\n",
       "        text-align: right;\n",
       "    }\n",
       "</style>\n",
       "<table border=\"1\" class=\"dataframe\">\n",
       "  <thead>\n",
       "    <tr style=\"text-align: right;\">\n",
       "      <th></th>\n",
       "      <th>Property Id</th>\n",
       "      <th>Number of Buildings</th>\n",
       "      <th>Year Built</th>\n",
       "      <th>Site EUI (GJ/m²)</th>\n",
       "      <th>Weather Normalized Site EUI (GJ/m²)</th>\n",
       "      <th>Source EUI (GJ/m²)</th>\n",
       "      <th>Weather Normalized Source EUI (GJ/m²)</th>\n",
       "      <th>Total GHG Emissions Intensity (kgCO2e/m²)</th>\n",
       "      <th>Direct GHG Emissions Intensity (kgCO2e/m²)</th>\n",
       "      <th>Green Power - Onsite and Offsite (kWh)</th>\n",
       "      <th>Avoided Emissions - Onsite and Offsite Green Power (Metric Tons CO2e)</th>\n",
       "      <th>Year Ending</th>\n",
       "    </tr>\n",
       "  </thead>\n",
       "  <tbody>\n",
       "    <tr>\n",
       "      <th>count</th>\n",
       "      <td>4.940000e+02</td>\n",
       "      <td>494.000000</td>\n",
       "      <td>494.000000</td>\n",
       "      <td>494.000000</td>\n",
       "      <td>494.000000</td>\n",
       "      <td>494.000000</td>\n",
       "      <td>494.000000</td>\n",
       "      <td>494.000000</td>\n",
       "      <td>494.000000</td>\n",
       "      <td>2.960000e+02</td>\n",
       "      <td>296.000000</td>\n",
       "      <td>494.000000</td>\n",
       "    </tr>\n",
       "    <tr>\n",
       "      <th>mean</th>\n",
       "      <td>1.308877e+07</td>\n",
       "      <td>1.060729</td>\n",
       "      <td>1980.091093</td>\n",
       "      <td>1.774798</td>\n",
       "      <td>1.810324</td>\n",
       "      <td>2.282753</td>\n",
       "      <td>2.319717</td>\n",
       "      <td>158.671660</td>\n",
       "      <td>63.821862</td>\n",
       "      <td>5.997183e+05</td>\n",
       "      <td>278.847635</td>\n",
       "      <td>2020.995951</td>\n",
       "    </tr>\n",
       "    <tr>\n",
       "      <th>std</th>\n",
       "      <td>5.659556e+06</td>\n",
       "      <td>0.278281</td>\n",
       "      <td>25.159568</td>\n",
       "      <td>1.306700</td>\n",
       "      <td>1.331529</td>\n",
       "      <td>1.597846</td>\n",
       "      <td>1.622897</td>\n",
       "      <td>109.472637</td>\n",
       "      <td>56.835735</td>\n",
       "      <td>1.196070e+06</td>\n",
       "      <td>556.048804</td>\n",
       "      <td>1.414208</td>\n",
       "    </tr>\n",
       "    <tr>\n",
       "      <th>min</th>\n",
       "      <td>6.169481e+06</td>\n",
       "      <td>1.000000</td>\n",
       "      <td>1896.000000</td>\n",
       "      <td>0.060000</td>\n",
       "      <td>0.060000</td>\n",
       "      <td>0.110000</td>\n",
       "      <td>0.110000</td>\n",
       "      <td>10.200000</td>\n",
       "      <td>0.000000</td>\n",
       "      <td>1.040400e+03</td>\n",
       "      <td>0.500000</td>\n",
       "      <td>2019.000000</td>\n",
       "    </tr>\n",
       "    <tr>\n",
       "      <th>25%</th>\n",
       "      <td>9.563763e+06</td>\n",
       "      <td>1.000000</td>\n",
       "      <td>1970.000000</td>\n",
       "      <td>0.990000</td>\n",
       "      <td>1.000000</td>\n",
       "      <td>1.312500</td>\n",
       "      <td>1.350000</td>\n",
       "      <td>93.100000</td>\n",
       "      <td>33.325000</td>\n",
       "      <td>1.030868e+05</td>\n",
       "      <td>48.000000</td>\n",
       "      <td>2020.000000</td>\n",
       "    </tr>\n",
       "    <tr>\n",
       "      <th>50%</th>\n",
       "      <td>9.997794e+06</td>\n",
       "      <td>1.000000</td>\n",
       "      <td>1978.000000</td>\n",
       "      <td>1.290000</td>\n",
       "      <td>1.310000</td>\n",
       "      <td>1.680000</td>\n",
       "      <td>1.690000</td>\n",
       "      <td>117.600000</td>\n",
       "      <td>43.900000</td>\n",
       "      <td>2.203235e+05</td>\n",
       "      <td>102.500000</td>\n",
       "      <td>2021.000000</td>\n",
       "    </tr>\n",
       "    <tr>\n",
       "      <th>75%</th>\n",
       "      <td>2.198860e+07</td>\n",
       "      <td>1.000000</td>\n",
       "      <td>1996.000000</td>\n",
       "      <td>2.065000</td>\n",
       "      <td>2.110000</td>\n",
       "      <td>2.622500</td>\n",
       "      <td>2.652500</td>\n",
       "      <td>186.975000</td>\n",
       "      <td>74.050000</td>\n",
       "      <td>5.415978e+05</td>\n",
       "      <td>252.000000</td>\n",
       "      <td>2022.000000</td>\n",
       "    </tr>\n",
       "    <tr>\n",
       "      <th>max</th>\n",
       "      <td>2.198863e+07</td>\n",
       "      <td>3.000000</td>\n",
       "      <td>2018.000000</td>\n",
       "      <td>8.430000</td>\n",
       "      <td>8.360000</td>\n",
       "      <td>10.130000</td>\n",
       "      <td>10.060000</td>\n",
       "      <td>666.200000</td>\n",
       "      <td>386.000000</td>\n",
       "      <td>9.618604e+06</td>\n",
       "      <td>4472.000000</td>\n",
       "      <td>2023.000000</td>\n",
       "    </tr>\n",
       "  </tbody>\n",
       "</table>\n",
       "</div>"
      ],
      "text/plain": [
       "        Property Id  Number of Buildings   Year Built  Site EUI (GJ/m²)  \\\n",
       "count  4.940000e+02           494.000000   494.000000        494.000000   \n",
       "mean   1.308877e+07             1.060729  1980.091093          1.774798   \n",
       "std    5.659556e+06             0.278281    25.159568          1.306700   \n",
       "min    6.169481e+06             1.000000  1896.000000          0.060000   \n",
       "25%    9.563763e+06             1.000000  1970.000000          0.990000   \n",
       "50%    9.997794e+06             1.000000  1978.000000          1.290000   \n",
       "75%    2.198860e+07             1.000000  1996.000000          2.065000   \n",
       "max    2.198863e+07             3.000000  2018.000000          8.430000   \n",
       "\n",
       "       Weather Normalized Site EUI (GJ/m²)  Source EUI (GJ/m²)  \\\n",
       "count                           494.000000          494.000000   \n",
       "mean                              1.810324            2.282753   \n",
       "std                               1.331529            1.597846   \n",
       "min                               0.060000            0.110000   \n",
       "25%                               1.000000            1.312500   \n",
       "50%                               1.310000            1.680000   \n",
       "75%                               2.110000            2.622500   \n",
       "max                               8.360000           10.130000   \n",
       "\n",
       "       Weather Normalized Source EUI (GJ/m²)  \\\n",
       "count                             494.000000   \n",
       "mean                                2.319717   \n",
       "std                                 1.622897   \n",
       "min                                 0.110000   \n",
       "25%                                 1.350000   \n",
       "50%                                 1.690000   \n",
       "75%                                 2.652500   \n",
       "max                                10.060000   \n",
       "\n",
       "       Total GHG Emissions Intensity (kgCO2e/m²)  \\\n",
       "count                                 494.000000   \n",
       "mean                                  158.671660   \n",
       "std                                   109.472637   \n",
       "min                                    10.200000   \n",
       "25%                                    93.100000   \n",
       "50%                                   117.600000   \n",
       "75%                                   186.975000   \n",
       "max                                   666.200000   \n",
       "\n",
       "       Direct GHG Emissions Intensity (kgCO2e/m²)  \\\n",
       "count                                  494.000000   \n",
       "mean                                    63.821862   \n",
       "std                                     56.835735   \n",
       "min                                      0.000000   \n",
       "25%                                     33.325000   \n",
       "50%                                     43.900000   \n",
       "75%                                     74.050000   \n",
       "max                                    386.000000   \n",
       "\n",
       "       Green Power - Onsite and Offsite (kWh)  \\\n",
       "count                            2.960000e+02   \n",
       "mean                             5.997183e+05   \n",
       "std                              1.196070e+06   \n",
       "min                              1.040400e+03   \n",
       "25%                              1.030868e+05   \n",
       "50%                              2.203235e+05   \n",
       "75%                              5.415978e+05   \n",
       "max                              9.618604e+06   \n",
       "\n",
       "       Avoided Emissions - Onsite and Offsite Green Power (Metric Tons CO2e)  \\\n",
       "count                                         296.000000                       \n",
       "mean                                          278.847635                       \n",
       "std                                           556.048804                       \n",
       "min                                             0.500000                       \n",
       "25%                                            48.000000                       \n",
       "50%                                           102.500000                       \n",
       "75%                                           252.000000                       \n",
       "max                                          4472.000000                       \n",
       "\n",
       "       Year Ending  \n",
       "count   494.000000  \n",
       "mean   2020.995951  \n",
       "std       1.414208  \n",
       "min    2019.000000  \n",
       "25%    2020.000000  \n",
       "50%    2021.000000  \n",
       "75%    2022.000000  \n",
       "max    2023.000000  "
      ]
     },
     "execution_count": 68,
     "metadata": {},
     "output_type": "execute_result"
    }
   ],
   "source": [
    "\n",
    "df_na_removed.describe()"
   ]
  },
  {
   "cell_type": "code",
   "execution_count": 69,
   "metadata": {},
   "outputs": [
    {
     "name": "stdout",
     "output_type": "stream",
     "text": [
      "<class 'pandas.core.frame.DataFrame'>\n",
      "RangeIndex: 494 entries, 0 to 493\n",
      "Data columns (total 28 columns):\n",
      " #   Column                                                                 Non-Null Count  Dtype  \n",
      "---  ------                                                                 --------------  -----  \n",
      " 0   Property Id                                                            494 non-null    int64  \n",
      " 1   Property Name                                                          494 non-null    object \n",
      " 2   Address 1                                                              494 non-null    object \n",
      " 3   City                                                                   494 non-null    object \n",
      " 4   Postal Code                                                            494 non-null    object \n",
      " 5   Province                                                               494 non-null    object \n",
      " 6   Primary Property Type - Self Selected                                  494 non-null    object \n",
      " 7   Number of Buildings                                                    494 non-null    int64  \n",
      " 8   Year Built                                                             494 non-null    int64  \n",
      " 9   Property GFA - Self-Reported (m²)                                      494 non-null    object \n",
      " 10  Site Energy Use (GJ)                                                   494 non-null    object \n",
      " 11  Weather Normalized Site Energy Use (GJ)                                494 non-null    object \n",
      " 12  Site EUI (GJ/m²)                                                       494 non-null    float64\n",
      " 13  Weather Normalized Site EUI (GJ/m²)                                    494 non-null    float64\n",
      " 14  Source Energy Use (GJ)                                                 494 non-null    object \n",
      " 15  Weather Normalized Source Energy Use (GJ)                              492 non-null    object \n",
      " 16  Source EUI (GJ/m²)                                                     494 non-null    float64\n",
      " 17  Weather Normalized Source EUI (GJ/m²)                                  494 non-null    float64\n",
      " 18  Total GHG Emissions (Metric Tons CO2e)                                 494 non-null    object \n",
      " 19  Total GHG Emissions Intensity (kgCO2e/m²)                              494 non-null    float64\n",
      " 20  Direct GHG Emissions (Metric Tons CO2e)                                494 non-null    object \n",
      " 21  Direct GHG Emissions Intensity (kgCO2e/m²)                             494 non-null    float64\n",
      " 22  Electricity Use - Grid Purchase (kWh)                                  494 non-null    object \n",
      " 23  Natural Gas Use (GJ)                                                   484 non-null    object \n",
      " 24  Green Power - Onsite and Offsite (kWh)                                 296 non-null    float64\n",
      " 25  Avoided Emissions - Onsite and Offsite Green Power (Metric Tons CO2e)  296 non-null    float64\n",
      " 26  Year Ending                                                            494 non-null    int64  \n",
      " 27  Unique ID                                                              494 non-null    object \n",
      "dtypes: float64(8), int64(4), object(16)\n",
      "memory usage: 108.2+ KB\n"
     ]
    }
   ],
   "source": [
    "df_na_removed.info()"
   ]
  },
  {
   "cell_type": "code",
   "execution_count": 70,
   "metadata": {},
   "outputs": [
    {
     "data": {
      "text/plain": [
       "Index(['Property Name', 'Address 1', 'City', 'Postal Code', 'Province',\n",
       "       'Primary Property Type - Self Selected',\n",
       "       'Property GFA - Self-Reported (m²)', 'Site Energy Use (GJ)',\n",
       "       'Weather Normalized Site Energy Use (GJ)', 'Source Energy Use (GJ)',\n",
       "       'Weather Normalized Source Energy Use (GJ)',\n",
       "       'Total GHG Emissions (Metric Tons CO2e)',\n",
       "       'Direct GHG Emissions (Metric Tons CO2e)',\n",
       "       'Electricity Use - Grid Purchase (kWh)', 'Natural Gas Use (GJ)',\n",
       "       'Unique ID'],\n",
       "      dtype='object')"
      ]
     },
     "execution_count": 70,
     "metadata": {},
     "output_type": "execute_result"
    }
   ],
   "source": [
    "# to get names of all the columns that are of dtype 'object':\n",
    "# Syntax is df.select_dtypes(include = ['object']).columns\n",
    "\n",
    "\n",
    "df_na_removed.select_dtypes(include=['object']).columns"
   ]
  },
  {
   "cell_type": "code",
   "execution_count": 49,
   "metadata": {},
   "outputs": [
    {
     "data": {
      "text/plain": [
       "dtype('O')"
      ]
     },
     "execution_count": 49,
     "metadata": {},
     "output_type": "execute_result"
    }
   ],
   "source": [
    "df_na_removed['Weather Normalized Source Energy Use (GJ)'].dtype"
   ]
  },
  {
   "cell_type": "code",
   "execution_count": 71,
   "metadata": {},
   "outputs": [
    {
     "name": "stderr",
     "output_type": "stream",
     "text": [
      "<ipython-input-71-7bece5541860>:4: SettingWithCopyWarning: \n",
      "A value is trying to be set on a copy of a slice from a DataFrame.\n",
      "Try using .loc[row_indexer,col_indexer] = value instead\n",
      "\n",
      "See the caveats in the documentation: https://pandas.pydata.org/pandas-docs/stable/user_guide/indexing.html#returning-a-view-versus-a-copy\n",
      "  df_na_removed['Weather Normalized Source Energy Use (GJ)'] = df_na_removed['Weather Normalized Source Energy Use (GJ)'].str.replace(',','').astype(float)\n"
     ]
    }
   ],
   "source": [
    "# df['column_name'] = df['column_name'].str.replace(',', '').astype(float)\n",
    "# Earlier this was throwing an error as the column values are strings with numbers and commas\n",
    "\n",
    "df_na_removed['Weather Normalized Source Energy Use (GJ)'] = df_na_removed['Weather Normalized Source Energy Use (GJ)'].str.replace(',','').astype(float)"
   ]
  },
  {
   "cell_type": "code",
   "execution_count": 72,
   "metadata": {},
   "outputs": [
    {
     "name": "stderr",
     "output_type": "stream",
     "text": [
      "<ipython-input-72-61145e05405e>:1: SettingWithCopyWarning: \n",
      "A value is trying to be set on a copy of a slice from a DataFrame\n",
      "\n",
      "See the caveats in the documentation: https://pandas.pydata.org/pandas-docs/stable/user_guide/indexing.html#returning-a-view-versus-a-copy\n",
      "  df_na_removed['Weather Normalized Source Energy Use (GJ)'].fillna(df_na_removed['Weather Normalized Source Energy Use (GJ)'].median(), inplace = True)\n"
     ]
    }
   ],
   "source": [
    "df_na_removed['Weather Normalized Source Energy Use (GJ)'].fillna(df_na_removed['Weather Normalized Source Energy Use (GJ)'].median(), inplace = True)"
   ]
  },
  {
   "cell_type": "code",
   "execution_count": 73,
   "metadata": {},
   "outputs": [
    {
     "data": {
      "text/plain": [
       "dtype('float64')"
      ]
     },
     "execution_count": 73,
     "metadata": {},
     "output_type": "execute_result"
    }
   ],
   "source": [
    "\n",
    "df_na_removed['Weather Normalized Source Energy Use (GJ)'].dtype"
   ]
  },
  {
   "cell_type": "code",
   "execution_count": 63,
   "metadata": {},
   "outputs": [
    {
     "data": {
      "text/html": [
       "<div>\n",
       "<style scoped>\n",
       "    .dataframe tbody tr th:only-of-type {\n",
       "        vertical-align: middle;\n",
       "    }\n",
       "\n",
       "    .dataframe tbody tr th {\n",
       "        vertical-align: top;\n",
       "    }\n",
       "\n",
       "    .dataframe thead th {\n",
       "        text-align: right;\n",
       "    }\n",
       "</style>\n",
       "<table border=\"1\" class=\"dataframe\">\n",
       "  <thead>\n",
       "    <tr style=\"text-align: right;\">\n",
       "      <th></th>\n",
       "      <th>Property Id</th>\n",
       "      <th>Property Name</th>\n",
       "      <th>Address 1</th>\n",
       "      <th>City</th>\n",
       "      <th>Postal Code</th>\n",
       "      <th>Province</th>\n",
       "      <th>Primary Property Type - Self Selected</th>\n",
       "      <th>Number of Buildings</th>\n",
       "      <th>Year Built</th>\n",
       "      <th>Property GFA - Self-Reported (m²)</th>\n",
       "      <th>...</th>\n",
       "      <th>Total GHG Emissions (Metric Tons CO2e)</th>\n",
       "      <th>Total GHG Emissions Intensity (kgCO2e/m²)</th>\n",
       "      <th>Direct GHG Emissions (Metric Tons CO2e)</th>\n",
       "      <th>Direct GHG Emissions Intensity (kgCO2e/m²)</th>\n",
       "      <th>Electricity Use - Grid Purchase (kWh)</th>\n",
       "      <th>Natural Gas Use (GJ)</th>\n",
       "      <th>Green Power - Onsite and Offsite (kWh)</th>\n",
       "      <th>Avoided Emissions - Onsite and Offsite Green Power (Metric Tons CO2e)</th>\n",
       "      <th>Year Ending</th>\n",
       "      <th>Unique ID</th>\n",
       "    </tr>\n",
       "  </thead>\n",
       "  <tbody>\n",
       "    <tr>\n",
       "      <th>0</th>\n",
       "      <td>10176804</td>\n",
       "      <td>Acadia Aquatic &amp; Fitness Centre</td>\n",
       "      <td>9009 Fairmount Dr SE</td>\n",
       "      <td>Calgary</td>\n",
       "      <td>T2H 0Z4</td>\n",
       "      <td>Alberta</td>\n",
       "      <td>Heated Swimming Pool</td>\n",
       "      <td>1</td>\n",
       "      <td>2010</td>\n",
       "      <td>1838</td>\n",
       "      <td>...</td>\n",
       "      <td>509</td>\n",
       "      <td>276.7</td>\n",
       "      <td>280</td>\n",
       "      <td>152.4</td>\n",
       "      <td>368616</td>\n",
       "      <td>5453</td>\n",
       "      <td>368616.0</td>\n",
       "      <td>171.0</td>\n",
       "      <td>2023</td>\n",
       "      <td>2023-10176804</td>\n",
       "    </tr>\n",
       "    <tr>\n",
       "      <th>1</th>\n",
       "      <td>6169481</td>\n",
       "      <td>Ad Valorem</td>\n",
       "      <td>2924 11 ST NE</td>\n",
       "      <td>Calgary</td>\n",
       "      <td>t2e7l7</td>\n",
       "      <td>Alberta</td>\n",
       "      <td>Office</td>\n",
       "      <td>1</td>\n",
       "      <td>1981</td>\n",
       "      <td>7770</td>\n",
       "      <td>...</td>\n",
       "      <td>920</td>\n",
       "      <td>118.4</td>\n",
       "      <td>243</td>\n",
       "      <td>31.2</td>\n",
       "      <td>1091854</td>\n",
       "      <td>4725</td>\n",
       "      <td>1091854.0</td>\n",
       "      <td>508.0</td>\n",
       "      <td>2023</td>\n",
       "      <td>2023-6169481</td>\n",
       "    </tr>\n",
       "    <tr>\n",
       "      <th>2</th>\n",
       "      <td>6305956</td>\n",
       "      <td>Alberta Trade Centre</td>\n",
       "      <td>315 10 AV SE</td>\n",
       "      <td>Calgary</td>\n",
       "      <td>T2G 0W2</td>\n",
       "      <td>Alberta</td>\n",
       "      <td>Office</td>\n",
       "      <td>1</td>\n",
       "      <td>1974</td>\n",
       "      <td>6681</td>\n",
       "      <td>...</td>\n",
       "      <td>499</td>\n",
       "      <td>74.6</td>\n",
       "      <td>0</td>\n",
       "      <td>0.0</td>\n",
       "      <td>508589</td>\n",
       "      <td>3</td>\n",
       "      <td>508589.0</td>\n",
       "      <td>236.0</td>\n",
       "      <td>2023</td>\n",
       "      <td>2023-6305956</td>\n",
       "    </tr>\n",
       "    <tr>\n",
       "      <th>3</th>\n",
       "      <td>8854296</td>\n",
       "      <td>Andrew Davison</td>\n",
       "      <td>133 6 AV SE</td>\n",
       "      <td>Calgary</td>\n",
       "      <td>T2G0G2</td>\n",
       "      <td>Alberta</td>\n",
       "      <td>Office</td>\n",
       "      <td>1</td>\n",
       "      <td>1979</td>\n",
       "      <td>17468</td>\n",
       "      <td>...</td>\n",
       "      <td>1293</td>\n",
       "      <td>74.0</td>\n",
       "      <td>26</td>\n",
       "      <td>1.5</td>\n",
       "      <td>1152308</td>\n",
       "      <td>506</td>\n",
       "      <td>1152308.0</td>\n",
       "      <td>536.0</td>\n",
       "      <td>2023</td>\n",
       "      <td>2023-8854296</td>\n",
       "    </tr>\n",
       "    <tr>\n",
       "      <th>4</th>\n",
       "      <td>21988603</td>\n",
       "      <td>Animal Services Centre</td>\n",
       "      <td>2201 PORTLAND ST SE</td>\n",
       "      <td>Calgary</td>\n",
       "      <td>T2G 4M7</td>\n",
       "      <td>Alberta</td>\n",
       "      <td>Office</td>\n",
       "      <td>1</td>\n",
       "      <td>2000</td>\n",
       "      <td>2143</td>\n",
       "      <td>...</td>\n",
       "      <td>568</td>\n",
       "      <td>265.2</td>\n",
       "      <td>253</td>\n",
       "      <td>118.1</td>\n",
       "      <td>508594</td>\n",
       "      <td>4926</td>\n",
       "      <td>508594.0</td>\n",
       "      <td>236.0</td>\n",
       "      <td>2023</td>\n",
       "      <td>2023-21988603</td>\n",
       "    </tr>\n",
       "  </tbody>\n",
       "</table>\n",
       "<p>5 rows × 28 columns</p>\n",
       "</div>"
      ],
      "text/plain": [
       "   Property Id                    Property Name             Address 1  \\\n",
       "0     10176804  Acadia Aquatic & Fitness Centre  9009 Fairmount Dr SE   \n",
       "1      6169481                       Ad Valorem         2924 11 ST NE   \n",
       "2      6305956             Alberta Trade Centre          315 10 AV SE   \n",
       "3      8854296                   Andrew Davison           133 6 AV SE   \n",
       "4     21988603           Animal Services Centre   2201 PORTLAND ST SE   \n",
       "\n",
       "      City Postal Code Province Primary Property Type - Self Selected  \\\n",
       "0  Calgary     T2H 0Z4  Alberta                  Heated Swimming Pool   \n",
       "1  Calgary      t2e7l7  Alberta                                Office   \n",
       "2  Calgary     T2G 0W2  Alberta                                Office   \n",
       "3  Calgary      T2G0G2  Alberta                                Office   \n",
       "4  Calgary     T2G 4M7  Alberta                                Office   \n",
       "\n",
       "   Number of Buildings  Year Built Property GFA - Self-Reported (m²)  ...  \\\n",
       "0                    1        2010                              1838  ...   \n",
       "1                    1        1981                              7770  ...   \n",
       "2                    1        1974                              6681  ...   \n",
       "3                    1        1979                             17468  ...   \n",
       "4                    1        2000                              2143  ...   \n",
       "\n",
       "  Total GHG Emissions (Metric Tons CO2e)  \\\n",
       "0                                    509   \n",
       "1                                    920   \n",
       "2                                    499   \n",
       "3                                   1293   \n",
       "4                                    568   \n",
       "\n",
       "  Total GHG Emissions Intensity (kgCO2e/m²)  \\\n",
       "0                                     276.7   \n",
       "1                                     118.4   \n",
       "2                                      74.6   \n",
       "3                                      74.0   \n",
       "4                                     265.2   \n",
       "\n",
       "   Direct GHG Emissions (Metric Tons CO2e)  \\\n",
       "0                                      280   \n",
       "1                                      243   \n",
       "2                                        0   \n",
       "3                                       26   \n",
       "4                                      253   \n",
       "\n",
       "   Direct GHG Emissions Intensity (kgCO2e/m²)  \\\n",
       "0                                       152.4   \n",
       "1                                        31.2   \n",
       "2                                         0.0   \n",
       "3                                         1.5   \n",
       "4                                       118.1   \n",
       "\n",
       "  Electricity Use - Grid Purchase (kWh) Natural Gas Use (GJ)  \\\n",
       "0                                368616                 5453   \n",
       "1                               1091854                 4725   \n",
       "2                                508589                    3   \n",
       "3                               1152308                  506   \n",
       "4                                508594                 4926   \n",
       "\n",
       "   Green Power - Onsite and Offsite (kWh)  \\\n",
       "0                                368616.0   \n",
       "1                               1091854.0   \n",
       "2                                508589.0   \n",
       "3                               1152308.0   \n",
       "4                                508594.0   \n",
       "\n",
       "   Avoided Emissions - Onsite and Offsite Green Power (Metric Tons CO2e)  \\\n",
       "0                                              171.0                       \n",
       "1                                              508.0                       \n",
       "2                                              236.0                       \n",
       "3                                              536.0                       \n",
       "4                                              236.0                       \n",
       "\n",
       "  Year Ending      Unique ID  \n",
       "0        2023  2023-10176804  \n",
       "1        2023   2023-6169481  \n",
       "2        2023   2023-6305956  \n",
       "3        2023   2023-8854296  \n",
       "4        2023  2023-21988603  \n",
       "\n",
       "[5 rows x 28 columns]"
      ]
     },
     "execution_count": 63,
     "metadata": {},
     "output_type": "execute_result"
    }
   ],
   "source": [
    "df_na_removed.head()"
   ]
  },
  {
   "cell_type": "code",
   "execution_count": 74,
   "metadata": {},
   "outputs": [
    {
     "data": {
      "text/plain": [
       "0"
      ]
     },
     "execution_count": 74,
     "metadata": {},
     "output_type": "execute_result"
    }
   ],
   "source": [
    "df_na_removed['Weather Normalized Source Energy Use (GJ)'].isna().sum()\n"
   ]
  },
  {
   "cell_type": "code",
   "execution_count": 77,
   "metadata": {},
   "outputs": [
    {
     "data": {
      "text/plain": [
       "Natural Gas Use (GJ)\n",
       "5,754.10    2\n",
       "840         2\n",
       "1034        2\n",
       "3226        2\n",
       "5453        1\n",
       "           ..\n",
       "6,219.40    1\n",
       "1,196.80    1\n",
       "2,770.30    1\n",
       "191.9       1\n",
       "244         1\n",
       "Name: count, Length: 480, dtype: int64"
      ]
     },
     "execution_count": 77,
     "metadata": {},
     "output_type": "execute_result"
    }
   ],
   "source": [
    "#df_na_removed['Natural Gas Use (GJ)'].value_counts()"
   ]
  },
  {
   "cell_type": "code",
   "execution_count": 87,
   "metadata": {},
   "outputs": [
    {
     "data": {
      "text/plain": [
       "10"
      ]
     },
     "execution_count": 87,
     "metadata": {},
     "output_type": "execute_result"
    }
   ],
   "source": [
    "df_na_removed['Natural Gas Use (GJ)'].isna().sum()"
   ]
  },
  {
   "cell_type": "code",
   "execution_count": 78,
   "metadata": {},
   "outputs": [
    {
     "name": "stderr",
     "output_type": "stream",
     "text": [
      "<ipython-input-78-7a1dfbe407e1>:1: SettingWithCopyWarning: \n",
      "A value is trying to be set on a copy of a slice from a DataFrame.\n",
      "Try using .loc[row_indexer,col_indexer] = value instead\n",
      "\n",
      "See the caveats in the documentation: https://pandas.pydata.org/pandas-docs/stable/user_guide/indexing.html#returning-a-view-versus-a-copy\n",
      "  df_na_removed['Natural Gas Use (GJ)']= df_na_removed['Natural Gas Use (GJ)'].str.replace(',','').astype(float)\n"
     ]
    }
   ],
   "source": [
    "df_na_removed['Natural Gas Use (GJ)']= df_na_removed['Natural Gas Use (GJ)'].str.replace(',','').astype(float)"
   ]
  },
  {
   "cell_type": "code",
   "execution_count": 86,
   "metadata": {},
   "outputs": [
    {
     "data": {
      "text/plain": [
       "dtype('float64')"
      ]
     },
     "execution_count": 86,
     "metadata": {},
     "output_type": "execute_result"
    }
   ],
   "source": [
    "df_na_removed['Natural Gas Use (GJ)'].dtype"
   ]
  },
  {
   "cell_type": "code",
   "execution_count": 92,
   "metadata": {},
   "outputs": [
    {
     "name": "stderr",
     "output_type": "stream",
     "text": [
      "<ipython-input-92-a0028a02123f>:1: SettingWithCopyWarning: \n",
      "A value is trying to be set on a copy of a slice from a DataFrame\n",
      "\n",
      "See the caveats in the documentation: https://pandas.pydata.org/pandas-docs/stable/user_guide/indexing.html#returning-a-view-versus-a-copy\n",
      "  df_na_removed['Natural Gas Use (GJ)'].fillna(df_na_removed['Natural Gas Use (GJ)'].median(), inplace = True)\n"
     ]
    }
   ],
   "source": [
    "df_na_removed['Natural Gas Use (GJ)'].fillna(df_na_removed['Natural Gas Use (GJ)'].median(), inplace = True)"
   ]
  },
  {
   "cell_type": "code",
   "execution_count": 93,
   "metadata": {},
   "outputs": [
    {
     "data": {
      "text/plain": [
       "0"
      ]
     },
     "execution_count": 93,
     "metadata": {},
     "output_type": "execute_result"
    }
   ],
   "source": [
    "df_na_removed['Natural Gas Use (GJ)'].isna().sum()"
   ]
  },
  {
   "cell_type": "code",
   "execution_count": 85,
   "metadata": {},
   "outputs": [],
   "source": [
    "import matplotlib.pyplot as plt"
   ]
  },
  {
   "cell_type": "code",
   "execution_count": 97,
   "metadata": {},
   "outputs": [
    {
     "data": {
      "text/plain": [
       "220323.5"
      ]
     },
     "execution_count": 97,
     "metadata": {},
     "output_type": "execute_result"
    }
   ],
   "source": [
    "df_na_removed['Green Power - Onsite and Offsite (kWh)'].median()"
   ]
  },
  {
   "cell_type": "code",
   "execution_count": 99,
   "metadata": {},
   "outputs": [
    {
     "name": "stderr",
     "output_type": "stream",
     "text": [
      "<ipython-input-99-176d5ea41133>:1: SettingWithCopyWarning: \n",
      "A value is trying to be set on a copy of a slice from a DataFrame\n",
      "\n",
      "See the caveats in the documentation: https://pandas.pydata.org/pandas-docs/stable/user_guide/indexing.html#returning-a-view-versus-a-copy\n",
      "  df_na_removed['Green Power - Onsite and Offsite (kWh)'].fillna(df_na_removed['Green Power - Onsite and Offsite (kWh)'].median(), inplace = True)\n"
     ]
    }
   ],
   "source": [
    "df_na_removed['Green Power - Onsite and Offsite (kWh)'].fillna(df_na_removed['Green Power - Onsite and Offsite (kWh)'].median(), inplace = True)"
   ]
  },
  {
   "cell_type": "code",
   "execution_count": 100,
   "metadata": {},
   "outputs": [
    {
     "data": {
      "text/plain": [
       "0"
      ]
     },
     "execution_count": 100,
     "metadata": {},
     "output_type": "execute_result"
    }
   ],
   "source": [
    "df_na_removed['Green Power - Onsite and Offsite (kWh)'].isna().sum()"
   ]
  },
  {
   "cell_type": "code",
   "execution_count": null,
   "metadata": {},
   "outputs": [],
   "source": []
  }
 ],
 "metadata": {
  "kernelspec": {
   "display_name": "Python 3",
   "language": "python",
   "name": "python3"
  }
 },
 "nbformat": 4,
 "nbformat_minor": 4
}
