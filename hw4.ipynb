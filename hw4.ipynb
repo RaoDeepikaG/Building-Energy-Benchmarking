{
 "cells": [
  {
   "cell_type": "code",
   "execution_count": 1,
   "metadata": {},
   "outputs": [
    {
     "name": "stderr",
     "output_type": "stream",
     "text": [
      "C:\\Users\\dpkar\\AppData\\Roaming\\Python\\Python38\\site-packages\\pandas\\core\\computation\\expressions.py:20: UserWarning: Pandas requires version '2.7.3' or newer of 'numexpr' (version '2.7.1' currently installed).\n",
      "  from pandas.core.computation.check import NUMEXPR_INSTALLED\n"
     ]
    }
   ],
   "source": [
    "import pandas as pd\n",
    "import numpy as np"
   ]
  },
  {
   "cell_type": "code",
   "execution_count": 19,
   "metadata": {},
   "outputs": [],
   "source": [
    "import warnings\n",
    "\n",
    "# Ignore all warnings\n",
    "warnings.filterwarnings('ignore')"
   ]
  },
  {
   "cell_type": "code",
   "execution_count": 2,
   "metadata": {},
   "outputs": [],
   "source": [
    "from pandas.core.computation.check import NUMEXPR_INSTALLED"
   ]
  },
  {
   "cell_type": "markdown",
   "metadata": {},
   "source": [
    "### Part 1: Data Cleaning and Preprocessing\n",
    "#### 1.1 Load and Inspect the Dataset\n",
    "• Load the dataset and display its shape, column names, and data types.\n",
    "\n",
    "• Identify and list the number of missing values in each column.\n"
   ]
  },
  {
   "cell_type": "code",
   "execution_count": 3,
   "metadata": {},
   "outputs": [],
   "source": [
    "# Load the dataset\n",
    "df = pd.read_csv('Building_Energy_Benchmarking.csv')\n"
   ]
  },
  {
   "cell_type": "code",
   "execution_count": 6,
   "metadata": {},
   "outputs": [
    {
     "name": "stdout",
     "output_type": "stream",
     "text": [
      "The shape of the dataset: \n"
     ]
    },
    {
     "data": {
      "text/plain": [
       "(494, 31)"
      ]
     },
     "metadata": {},
     "output_type": "display_data"
    }
   ],
   "source": [
    "# To display the shape of the dataset\n",
    "print(f'The shape of the dataset: ')\n",
    "display(df.shape )   # dataset is having 494 rows and 31 columns\n",
    "\n"
   ]
  },
  {
   "cell_type": "code",
   "execution_count": 7,
   "metadata": {},
   "outputs": [
    {
     "data": {
      "text/plain": [
       "Index(['Property Id', 'Property Name', 'Address 1', 'City', 'Postal Code',\n",
       "       'Province', 'Primary Property Type - Self Selected',\n",
       "       'Number of Buildings', 'Year Built',\n",
       "       'Property GFA - Self-Reported (m²)', 'ENERGY STAR Score',\n",
       "       'Site Energy Use (GJ)', 'Weather Normalized Site Energy Use (GJ)',\n",
       "       'Site EUI (GJ/m²)', 'Weather Normalized Site EUI (GJ/m²)',\n",
       "       'Source Energy Use (GJ)', 'Weather Normalized Source Energy Use (GJ)',\n",
       "       'Source EUI (GJ/m²)', 'Weather Normalized Source EUI (GJ/m²)',\n",
       "       'Total GHG Emissions (Metric Tons CO2e)',\n",
       "       'Total GHG Emissions Intensity (kgCO2e/m²)',\n",
       "       'Direct GHG Emissions (Metric Tons CO2e)',\n",
       "       'Direct GHG Emissions Intensity (kgCO2e/m²)',\n",
       "       'Electricity Use - Grid Purchase (kWh)', 'Natural Gas Use (GJ)',\n",
       "       'District Hot Water Use (GJ)',\n",
       "       'Electricity Use – Generated from Onsite Renewable Systems (kWh)',\n",
       "       'Green Power - Onsite and Offsite (kWh)',\n",
       "       'Avoided Emissions - Onsite and Offsite Green Power (Metric Tons CO2e)',\n",
       "       'Year Ending', 'Unique ID'],\n",
       "      dtype='object')"
      ]
     },
     "metadata": {},
     "output_type": "display_data"
    }
   ],
   "source": [
    "display(df.columns)"
   ]
  },
  {
   "cell_type": "code",
   "execution_count": 13,
   "metadata": {},
   "outputs": [
    {
     "name": "stdout",
     "output_type": "stream",
     "text": [
      "The columns of object type are:\n",
      "['Property Name', 'Address 1', 'City', 'Postal Code', 'Province', 'Primary Property Type - Self Selected', 'Property GFA - Self-Reported (m²)', 'Site Energy Use (GJ)', 'Weather Normalized Site Energy Use (GJ)', 'Source Energy Use (GJ)', 'Weather Normalized Source Energy Use (GJ)', 'Total GHG Emissions (Metric Tons CO2e)', 'Direct GHG Emissions (Metric Tons CO2e)', 'Electricity Use - Grid Purchase (kWh)', 'Natural Gas Use (GJ)', 'District Hot Water Use (GJ)', 'Unique ID']\n",
      "\n",
      "\n",
      "The columns of int64 type are:\n",
      "['Property Id', 'Number of Buildings', 'Year Built', 'Year Ending']\n",
      "\n",
      "\n",
      "The columns of float64 type are:\n",
      "['ENERGY STAR Score', 'Site EUI (GJ/m²)', 'Weather Normalized Site EUI (GJ/m²)', 'Source EUI (GJ/m²)', 'Weather Normalized Source EUI (GJ/m²)', 'Total GHG Emissions Intensity (kgCO2e/m²)', 'Direct GHG Emissions Intensity (kgCO2e/m²)', 'Electricity Use – Generated from Onsite Renewable Systems (kWh)', 'Green Power - Onsite and Offsite (kWh)', 'Avoided Emissions - Onsite and Offsite Green Power (Metric Tons CO2e)']\n",
      "\n",
      "\n"
     ]
    }
   ],
   "source": [
    "# To display the columns according to their datatype:\n",
    "\n",
    "column_types = ['object', 'int64', 'float64']\n",
    "for column in column_types:\n",
    "    print(f'The columns of {column} type are:')\n",
    "    print(df.select_dtypes(include = column).columns.tolist())\n",
    "    print('\\n')"
   ]
  },
  {
   "cell_type": "code",
   "execution_count": 58,
   "metadata": {},
   "outputs": [
    {
     "name": "stdout",
     "output_type": "stream",
     "text": [
      "<class 'pandas.core.frame.DataFrame'>\n",
      "RangeIndex: 494 entries, 0 to 493\n",
      "Data columns (total 31 columns):\n",
      " #   Column                                                                 Non-Null Count  Dtype  \n",
      "---  ------                                                                 --------------  -----  \n",
      " 0   Property Id                                                            494 non-null    int64  \n",
      " 1   Property Name                                                          494 non-null    object \n",
      " 2   Address 1                                                              494 non-null    object \n",
      " 3   City                                                                   494 non-null    object \n",
      " 4   Postal Code                                                            494 non-null    object \n",
      " 5   Province                                                               494 non-null    object \n",
      " 6   Primary Property Type - Self Selected                                  494 non-null    object \n",
      " 7   Number of Buildings                                                    494 non-null    int64  \n",
      " 8   Year Built                                                             494 non-null    int64  \n",
      " 9   Property GFA - Self-Reported (m²)                                      494 non-null    object \n",
      " 10  ENERGY STAR Score                                                      165 non-null    float64\n",
      " 11  Site Energy Use (GJ)                                                   494 non-null    object \n",
      " 12  Weather Normalized Site Energy Use (GJ)                                494 non-null    object \n",
      " 13  Site EUI (GJ/m²)                                                       494 non-null    float64\n",
      " 14  Weather Normalized Site EUI (GJ/m²)                                    494 non-null    float64\n",
      " 15  Source Energy Use (GJ)                                                 494 non-null    object \n",
      " 16  Weather Normalized Source Energy Use (GJ)                              492 non-null    object \n",
      " 17  Source EUI (GJ/m²)                                                     494 non-null    float64\n",
      " 18  Weather Normalized Source EUI (GJ/m²)                                  494 non-null    float64\n",
      " 19  Total GHG Emissions (Metric Tons CO2e)                                 494 non-null    object \n",
      " 20  Total GHG Emissions Intensity (kgCO2e/m²)                              494 non-null    float64\n",
      " 21  Direct GHG Emissions (Metric Tons CO2e)                                494 non-null    object \n",
      " 22  Direct GHG Emissions Intensity (kgCO2e/m²)                             494 non-null    float64\n",
      " 23  Electricity Use - Grid Purchase (kWh)                                  494 non-null    object \n",
      " 24  Natural Gas Use (GJ)                                                   484 non-null    object \n",
      " 25  District Hot Water Use (GJ)                                            15 non-null     object \n",
      " 26  Electricity Use – Generated from Onsite Renewable Systems (kWh)        44 non-null     float64\n",
      " 27  Green Power - Onsite and Offsite (kWh)                                 296 non-null    float64\n",
      " 28  Avoided Emissions - Onsite and Offsite Green Power (Metric Tons CO2e)  296 non-null    float64\n",
      " 29  Year Ending                                                            494 non-null    int64  \n",
      " 30  Unique ID                                                              494 non-null    object \n",
      "dtypes: float64(10), int64(4), object(17)\n",
      "memory usage: 119.8+ KB\n"
     ]
    },
    {
     "data": {
      "text/plain": [
       "None"
      ]
     },
     "metadata": {},
     "output_type": "display_data"
    }
   ],
   "source": [
    "\n",
    "display(df.info())"
   ]
  },
  {
   "cell_type": "code",
   "execution_count": 24,
   "metadata": {},
   "outputs": [
    {
     "data": {
      "text/html": [
       "<div>\n",
       "<style scoped>\n",
       "    .dataframe tbody tr th:only-of-type {\n",
       "        vertical-align: middle;\n",
       "    }\n",
       "\n",
       "    .dataframe tbody tr th {\n",
       "        vertical-align: top;\n",
       "    }\n",
       "\n",
       "    .dataframe thead th {\n",
       "        text-align: right;\n",
       "    }\n",
       "</style>\n",
       "<table border=\"1\" class=\"dataframe\">\n",
       "  <thead>\n",
       "    <tr style=\"text-align: right;\">\n",
       "      <th></th>\n",
       "      <th>Property Id</th>\n",
       "      <th>Property Name</th>\n",
       "      <th>Address 1</th>\n",
       "      <th>City</th>\n",
       "      <th>Postal Code</th>\n",
       "      <th>Province</th>\n",
       "      <th>Primary Property Type - Self Selected</th>\n",
       "      <th>Number of Buildings</th>\n",
       "      <th>Year Built</th>\n",
       "      <th>Property GFA - Self-Reported (m²)</th>\n",
       "      <th>...</th>\n",
       "      <th>Direct GHG Emissions (Metric Tons CO2e)</th>\n",
       "      <th>Direct GHG Emissions Intensity (kgCO2e/m²)</th>\n",
       "      <th>Electricity Use - Grid Purchase (kWh)</th>\n",
       "      <th>Natural Gas Use (GJ)</th>\n",
       "      <th>District Hot Water Use (GJ)</th>\n",
       "      <th>Electricity Use – Generated from Onsite Renewable Systems (kWh)</th>\n",
       "      <th>Green Power - Onsite and Offsite (kWh)</th>\n",
       "      <th>Avoided Emissions - Onsite and Offsite Green Power (Metric Tons CO2e)</th>\n",
       "      <th>Year Ending</th>\n",
       "      <th>Unique ID</th>\n",
       "    </tr>\n",
       "  </thead>\n",
       "  <tbody>\n",
       "    <tr>\n",
       "      <th>0</th>\n",
       "      <td>10176804</td>\n",
       "      <td>Acadia Aquatic &amp; Fitness Centre</td>\n",
       "      <td>9009 Fairmount Dr SE</td>\n",
       "      <td>Calgary</td>\n",
       "      <td>T2H 0Z4</td>\n",
       "      <td>Alberta</td>\n",
       "      <td>Heated Swimming Pool</td>\n",
       "      <td>1</td>\n",
       "      <td>2010</td>\n",
       "      <td>1838</td>\n",
       "      <td>...</td>\n",
       "      <td>280</td>\n",
       "      <td>152.4</td>\n",
       "      <td>368616</td>\n",
       "      <td>5453</td>\n",
       "      <td>NaN</td>\n",
       "      <td>NaN</td>\n",
       "      <td>368616.0</td>\n",
       "      <td>171.0</td>\n",
       "      <td>2023</td>\n",
       "      <td>2023-10176804</td>\n",
       "    </tr>\n",
       "    <tr>\n",
       "      <th>1</th>\n",
       "      <td>6169481</td>\n",
       "      <td>Ad Valorem</td>\n",
       "      <td>2924 11 ST NE</td>\n",
       "      <td>Calgary</td>\n",
       "      <td>t2e7l7</td>\n",
       "      <td>Alberta</td>\n",
       "      <td>Office</td>\n",
       "      <td>1</td>\n",
       "      <td>1981</td>\n",
       "      <td>7770</td>\n",
       "      <td>...</td>\n",
       "      <td>243</td>\n",
       "      <td>31.2</td>\n",
       "      <td>1091854</td>\n",
       "      <td>4725</td>\n",
       "      <td>NaN</td>\n",
       "      <td>NaN</td>\n",
       "      <td>1091854.0</td>\n",
       "      <td>508.0</td>\n",
       "      <td>2023</td>\n",
       "      <td>2023-6169481</td>\n",
       "    </tr>\n",
       "    <tr>\n",
       "      <th>2</th>\n",
       "      <td>6305956</td>\n",
       "      <td>Alberta Trade Centre</td>\n",
       "      <td>315 10 AV SE</td>\n",
       "      <td>Calgary</td>\n",
       "      <td>T2G 0W2</td>\n",
       "      <td>Alberta</td>\n",
       "      <td>Office</td>\n",
       "      <td>1</td>\n",
       "      <td>1974</td>\n",
       "      <td>6681</td>\n",
       "      <td>...</td>\n",
       "      <td>0</td>\n",
       "      <td>0.0</td>\n",
       "      <td>508589</td>\n",
       "      <td>3</td>\n",
       "      <td>2180</td>\n",
       "      <td>NaN</td>\n",
       "      <td>508589.0</td>\n",
       "      <td>236.0</td>\n",
       "      <td>2023</td>\n",
       "      <td>2023-6305956</td>\n",
       "    </tr>\n",
       "  </tbody>\n",
       "</table>\n",
       "<p>3 rows × 31 columns</p>\n",
       "</div>"
      ],
      "text/plain": [
       "   Property Id                    Property Name             Address 1  \\\n",
       "0     10176804  Acadia Aquatic & Fitness Centre  9009 Fairmount Dr SE   \n",
       "1      6169481                       Ad Valorem         2924 11 ST NE   \n",
       "2      6305956             Alberta Trade Centre          315 10 AV SE   \n",
       "\n",
       "      City Postal Code Province Primary Property Type - Self Selected  \\\n",
       "0  Calgary     T2H 0Z4  Alberta                  Heated Swimming Pool   \n",
       "1  Calgary      t2e7l7  Alberta                                Office   \n",
       "2  Calgary     T2G 0W2  Alberta                                Office   \n",
       "\n",
       "   Number of Buildings  Year Built Property GFA - Self-Reported (m²)  ...  \\\n",
       "0                    1        2010                              1838  ...   \n",
       "1                    1        1981                              7770  ...   \n",
       "2                    1        1974                              6681  ...   \n",
       "\n",
       "   Direct GHG Emissions (Metric Tons CO2e)  \\\n",
       "0                                      280   \n",
       "1                                      243   \n",
       "2                                        0   \n",
       "\n",
       "  Direct GHG Emissions Intensity (kgCO2e/m²)  \\\n",
       "0                                      152.4   \n",
       "1                                       31.2   \n",
       "2                                        0.0   \n",
       "\n",
       "  Electricity Use - Grid Purchase (kWh)  Natural Gas Use (GJ)  \\\n",
       "0                                368616                  5453   \n",
       "1                               1091854                  4725   \n",
       "2                                508589                     3   \n",
       "\n",
       "   District Hot Water Use (GJ)  \\\n",
       "0                          NaN   \n",
       "1                          NaN   \n",
       "2                         2180   \n",
       "\n",
       "  Electricity Use – Generated from Onsite Renewable Systems (kWh)  \\\n",
       "0                                                NaN                \n",
       "1                                                NaN                \n",
       "2                                                NaN                \n",
       "\n",
       "  Green Power - Onsite and Offsite (kWh)  \\\n",
       "0                               368616.0   \n",
       "1                              1091854.0   \n",
       "2                               508589.0   \n",
       "\n",
       "   Avoided Emissions - Onsite and Offsite Green Power (Metric Tons CO2e)  \\\n",
       "0                                              171.0                       \n",
       "1                                              508.0                       \n",
       "2                                              236.0                       \n",
       "\n",
       "   Year Ending      Unique ID  \n",
       "0         2023  2023-10176804  \n",
       "1         2023   2023-6169481  \n",
       "2         2023   2023-6305956  \n",
       "\n",
       "[3 rows x 31 columns]"
      ]
     },
     "execution_count": 24,
     "metadata": {},
     "output_type": "execute_result"
    }
   ],
   "source": [
    "df.head(3)"
   ]
  },
  {
   "cell_type": "code",
   "execution_count": 25,
   "metadata": {},
   "outputs": [
    {
     "name": "stdout",
     "output_type": "stream",
     "text": [
      "The number of duplicated rows: 0\n"
     ]
    }
   ],
   "source": [
    "# To check for duplicated rows:\n",
    "df.duplicated().sum()\n",
    "\n",
    "print(f'The number of duplicated rows: {df.duplicated().sum()}')"
   ]
  },
  {
   "cell_type": "code",
   "execution_count": 14,
   "metadata": {},
   "outputs": [
    {
     "name": "stdout",
     "output_type": "stream",
     "text": [
      "The percent of missing values in each column: \n"
     ]
    },
    {
     "data": {
      "text/plain": [
       "Property Id                                                               0.000000\n",
       "Property Name                                                             0.000000\n",
       "Address 1                                                                 0.000000\n",
       "City                                                                      0.000000\n",
       "Postal Code                                                               0.000000\n",
       "Province                                                                  0.000000\n",
       "Primary Property Type - Self Selected                                     0.000000\n",
       "Number of Buildings                                                       0.000000\n",
       "Year Built                                                                0.000000\n",
       "Property GFA - Self-Reported (m²)                                         0.000000\n",
       "ENERGY STAR Score                                                        66.599190\n",
       "Site Energy Use (GJ)                                                      0.000000\n",
       "Weather Normalized Site Energy Use (GJ)                                   0.000000\n",
       "Site EUI (GJ/m²)                                                          0.000000\n",
       "Weather Normalized Site EUI (GJ/m²)                                       0.000000\n",
       "Source Energy Use (GJ)                                                    0.000000\n",
       "Weather Normalized Source Energy Use (GJ)                                 0.404858\n",
       "Source EUI (GJ/m²)                                                        0.000000\n",
       "Weather Normalized Source EUI (GJ/m²)                                     0.000000\n",
       "Total GHG Emissions (Metric Tons CO2e)                                    0.000000\n",
       "Total GHG Emissions Intensity (kgCO2e/m²)                                 0.000000\n",
       "Direct GHG Emissions (Metric Tons CO2e)                                   0.000000\n",
       "Direct GHG Emissions Intensity (kgCO2e/m²)                                0.000000\n",
       "Electricity Use - Grid Purchase (kWh)                                     0.000000\n",
       "Natural Gas Use (GJ)                                                      2.024291\n",
       "District Hot Water Use (GJ)                                              96.963563\n",
       "Electricity Use – Generated from Onsite Renewable Systems (kWh)          91.093117\n",
       "Green Power - Onsite and Offsite (kWh)                                   40.080972\n",
       "Avoided Emissions - Onsite and Offsite Green Power (Metric Tons CO2e)    40.080972\n",
       "Year Ending                                                               0.000000\n",
       "Unique ID                                                                 0.000000\n",
       "dtype: float64"
      ]
     },
     "metadata": {},
     "output_type": "display_data"
    },
    {
     "name": "stdout",
     "output_type": "stream",
     "text": [
      "\n",
      "\n",
      "The columns having more than 40% missing values\n"
     ]
    },
    {
     "data": {
      "text/plain": [
       "Index(['ENERGY STAR Score', 'District Hot Water Use (GJ)',\n",
       "       'Electricity Use – Generated from Onsite Renewable Systems (kWh)',\n",
       "       'Green Power - Onsite and Offsite (kWh)',\n",
       "       'Avoided Emissions - Onsite and Offsite Green Power (Metric Tons CO2e)'],\n",
       "      dtype='object')"
      ]
     },
     "metadata": {},
     "output_type": "display_data"
    }
   ],
   "source": [
    "# To display the number of missing values in each column\n",
    "print('The percent of missing values in each column: ')\n",
    "display(df.isna().sum()/len(df)*100 )\n",
    "\n",
    "print('\\n')\n",
    "\n",
    "print('The columns having more than 40% missing values')\n",
    "display(df.columns[df.isna().sum()/len(df)*100 > 40.0])"
   ]
  },
  {
   "cell_type": "markdown",
   "metadata": {},
   "source": [
    "### 1.2 Handling Missing Data\n",
    "• Drop columns with more than 40% missing values.\n",
    "\n",
    "• For numerical columns, fill missing values with the median of their respective column.\n",
    "\n",
    "• For categorical columns, fill missing values with the mode of their respective column."
   ]
  },
  {
   "cell_type": "code",
   "execution_count": 15,
   "metadata": {},
   "outputs": [
    {
     "name": "stdout",
     "output_type": "stream",
     "text": [
      "The threshold for missing values in columns is 197.6 \n"
     ]
    }
   ],
   "source": [
    "# Remove columns with more than 40% missing values\n",
    "\n",
    "column_threshold = 0.4*len(df)\n",
    "print(f'The threshold for missing values in columns is {round(column_threshold,3)} ')"
   ]
  },
  {
   "cell_type": "code",
   "execution_count": 17,
   "metadata": {},
   "outputs": [],
   "source": [
    "# remove the columns that have more than 40% missing values\n",
    "df_na_removed = df.dropna(thresh = column_threshold, axis = 1)"
   ]
  },
  {
   "cell_type": "code",
   "execution_count": 66,
   "metadata": {},
   "outputs": [
    {
     "data": {
      "text/plain": [
       "(494, 28)"
      ]
     },
     "execution_count": 66,
     "metadata": {},
     "output_type": "execute_result"
    }
   ],
   "source": [
    "# shape of the dataset after removing columns with > 40% na values\n",
    "df_na_removed.shape"
   ]
  },
  {
   "cell_type": "code",
   "execution_count": 67,
   "metadata": {},
   "outputs": [
    {
     "data": {
      "text/plain": [
       "(494, 31)"
      ]
     },
     "execution_count": 67,
     "metadata": {},
     "output_type": "execute_result"
    }
   ],
   "source": [
    "# shape of the original dataset\n",
    "df.shape"
   ]
  },
  {
   "cell_type": "code",
   "execution_count": 33,
   "metadata": {},
   "outputs": [
    {
     "data": {
      "text/plain": [
       "Property Id                                                               0.000000\n",
       "Property Name                                                             0.000000\n",
       "Address 1                                                                 0.000000\n",
       "City                                                                      0.000000\n",
       "Postal Code                                                               0.000000\n",
       "Province                                                                  0.000000\n",
       "Primary Property Type - Self Selected                                     0.000000\n",
       "Number of Buildings                                                       0.000000\n",
       "Year Built                                                                0.000000\n",
       "Property GFA - Self-Reported (m²)                                         0.000000\n",
       "Site Energy Use (GJ)                                                      0.000000\n",
       "Weather Normalized Site Energy Use (GJ)                                   0.000000\n",
       "Site EUI (GJ/m²)                                                          0.000000\n",
       "Weather Normalized Site EUI (GJ/m²)                                       0.000000\n",
       "Source Energy Use (GJ)                                                    0.000000\n",
       "Weather Normalized Source Energy Use (GJ)                                 0.404858\n",
       "Source EUI (GJ/m²)                                                        0.000000\n",
       "Weather Normalized Source EUI (GJ/m²)                                     0.000000\n",
       "Total GHG Emissions (Metric Tons CO2e)                                    0.000000\n",
       "Total GHG Emissions Intensity (kgCO2e/m²)                                 0.000000\n",
       "Direct GHG Emissions (Metric Tons CO2e)                                   0.000000\n",
       "Direct GHG Emissions Intensity (kgCO2e/m²)                                0.000000\n",
       "Electricity Use - Grid Purchase (kWh)                                     0.000000\n",
       "Natural Gas Use (GJ)                                                      2.024291\n",
       "Green Power - Onsite and Offsite (kWh)                                   40.080972\n",
       "Avoided Emissions - Onsite and Offsite Green Power (Metric Tons CO2e)    40.080972\n",
       "Year Ending                                                               0.000000\n",
       "Unique ID                                                                 0.000000\n",
       "dtype: float64"
      ]
     },
     "metadata": {},
     "output_type": "display_data"
    },
    {
     "name": "stdout",
     "output_type": "stream",
     "text": [
      "The columns with missing values\n"
     ]
    },
    {
     "data": {
      "text/plain": [
       "['Weather Normalized Source Energy Use (GJ)',\n",
       " 'Natural Gas Use (GJ)',\n",
       " 'Green Power - Onsite and Offsite (kWh)',\n",
       " 'Avoided Emissions - Onsite and Offsite Green Power (Metric Tons CO2e)']"
      ]
     },
     "metadata": {},
     "output_type": "display_data"
    }
   ],
   "source": [
    "# check the percent of missing values in the dataset\n",
    "missing_values = df_na_removed.isna().sum()/len(df_na_removed)*100\n",
    "display(missing_values)\n"
   ]
  },
  {
   "cell_type": "code",
   "execution_count": 47,
   "metadata": {},
   "outputs": [
    {
     "name": "stdout",
     "output_type": "stream",
     "text": [
      "The columns with missing values after removing those columns with > 40% na are:\n"
     ]
    },
    {
     "data": {
      "text/plain": [
       "['Weather Normalized Source Energy Use (GJ)',\n",
       " 'Natural Gas Use (GJ)',\n",
       " 'Green Power - Onsite and Offsite (kWh)',\n",
       " 'Avoided Emissions - Onsite and Offsite Green Power (Metric Tons CO2e)']"
      ]
     },
     "metadata": {},
     "output_type": "display_data"
    }
   ],
   "source": [
    "# The columns with missing values\n",
    "print('The columns with missing values after removing those columns with > 40% na are:')\n",
    "cols_to_impute = missing_values[missing_values > 0.0].index.tolist()\n",
    "display(cols_to_impute)"
   ]
  },
  {
   "cell_type": "code",
   "execution_count": 68,
   "metadata": {},
   "outputs": [
    {
     "data": {
      "text/html": [
       "<div>\n",
       "<style scoped>\n",
       "    .dataframe tbody tr th:only-of-type {\n",
       "        vertical-align: middle;\n",
       "    }\n",
       "\n",
       "    .dataframe tbody tr th {\n",
       "        vertical-align: top;\n",
       "    }\n",
       "\n",
       "    .dataframe thead th {\n",
       "        text-align: right;\n",
       "    }\n",
       "</style>\n",
       "<table border=\"1\" class=\"dataframe\">\n",
       "  <thead>\n",
       "    <tr style=\"text-align: right;\">\n",
       "      <th></th>\n",
       "      <th>Property Id</th>\n",
       "      <th>Number of Buildings</th>\n",
       "      <th>Year Built</th>\n",
       "      <th>Site EUI (GJ/m²)</th>\n",
       "      <th>Weather Normalized Site EUI (GJ/m²)</th>\n",
       "      <th>Source EUI (GJ/m²)</th>\n",
       "      <th>Weather Normalized Source EUI (GJ/m²)</th>\n",
       "      <th>Total GHG Emissions Intensity (kgCO2e/m²)</th>\n",
       "      <th>Direct GHG Emissions Intensity (kgCO2e/m²)</th>\n",
       "      <th>Green Power - Onsite and Offsite (kWh)</th>\n",
       "      <th>Avoided Emissions - Onsite and Offsite Green Power (Metric Tons CO2e)</th>\n",
       "      <th>Year Ending</th>\n",
       "    </tr>\n",
       "  </thead>\n",
       "  <tbody>\n",
       "    <tr>\n",
       "      <th>count</th>\n",
       "      <td>4.940000e+02</td>\n",
       "      <td>494.000000</td>\n",
       "      <td>494.000000</td>\n",
       "      <td>494.000000</td>\n",
       "      <td>494.000000</td>\n",
       "      <td>494.000000</td>\n",
       "      <td>494.000000</td>\n",
       "      <td>494.000000</td>\n",
       "      <td>494.000000</td>\n",
       "      <td>2.960000e+02</td>\n",
       "      <td>296.000000</td>\n",
       "      <td>494.000000</td>\n",
       "    </tr>\n",
       "    <tr>\n",
       "      <th>mean</th>\n",
       "      <td>1.308877e+07</td>\n",
       "      <td>1.060729</td>\n",
       "      <td>1980.091093</td>\n",
       "      <td>1.774798</td>\n",
       "      <td>1.810324</td>\n",
       "      <td>2.282753</td>\n",
       "      <td>2.319717</td>\n",
       "      <td>158.671660</td>\n",
       "      <td>63.821862</td>\n",
       "      <td>5.997183e+05</td>\n",
       "      <td>278.847635</td>\n",
       "      <td>2020.995951</td>\n",
       "    </tr>\n",
       "    <tr>\n",
       "      <th>std</th>\n",
       "      <td>5.659556e+06</td>\n",
       "      <td>0.278281</td>\n",
       "      <td>25.159568</td>\n",
       "      <td>1.306700</td>\n",
       "      <td>1.331529</td>\n",
       "      <td>1.597846</td>\n",
       "      <td>1.622897</td>\n",
       "      <td>109.472637</td>\n",
       "      <td>56.835735</td>\n",
       "      <td>1.196070e+06</td>\n",
       "      <td>556.048804</td>\n",
       "      <td>1.414208</td>\n",
       "    </tr>\n",
       "    <tr>\n",
       "      <th>min</th>\n",
       "      <td>6.169481e+06</td>\n",
       "      <td>1.000000</td>\n",
       "      <td>1896.000000</td>\n",
       "      <td>0.060000</td>\n",
       "      <td>0.060000</td>\n",
       "      <td>0.110000</td>\n",
       "      <td>0.110000</td>\n",
       "      <td>10.200000</td>\n",
       "      <td>0.000000</td>\n",
       "      <td>1.040400e+03</td>\n",
       "      <td>0.500000</td>\n",
       "      <td>2019.000000</td>\n",
       "    </tr>\n",
       "    <tr>\n",
       "      <th>25%</th>\n",
       "      <td>9.563763e+06</td>\n",
       "      <td>1.000000</td>\n",
       "      <td>1970.000000</td>\n",
       "      <td>0.990000</td>\n",
       "      <td>1.000000</td>\n",
       "      <td>1.312500</td>\n",
       "      <td>1.350000</td>\n",
       "      <td>93.100000</td>\n",
       "      <td>33.325000</td>\n",
       "      <td>1.030868e+05</td>\n",
       "      <td>48.000000</td>\n",
       "      <td>2020.000000</td>\n",
       "    </tr>\n",
       "    <tr>\n",
       "      <th>50%</th>\n",
       "      <td>9.997794e+06</td>\n",
       "      <td>1.000000</td>\n",
       "      <td>1978.000000</td>\n",
       "      <td>1.290000</td>\n",
       "      <td>1.310000</td>\n",
       "      <td>1.680000</td>\n",
       "      <td>1.690000</td>\n",
       "      <td>117.600000</td>\n",
       "      <td>43.900000</td>\n",
       "      <td>2.203235e+05</td>\n",
       "      <td>102.500000</td>\n",
       "      <td>2021.000000</td>\n",
       "    </tr>\n",
       "    <tr>\n",
       "      <th>75%</th>\n",
       "      <td>2.198860e+07</td>\n",
       "      <td>1.000000</td>\n",
       "      <td>1996.000000</td>\n",
       "      <td>2.065000</td>\n",
       "      <td>2.110000</td>\n",
       "      <td>2.622500</td>\n",
       "      <td>2.652500</td>\n",
       "      <td>186.975000</td>\n",
       "      <td>74.050000</td>\n",
       "      <td>5.415978e+05</td>\n",
       "      <td>252.000000</td>\n",
       "      <td>2022.000000</td>\n",
       "    </tr>\n",
       "    <tr>\n",
       "      <th>max</th>\n",
       "      <td>2.198863e+07</td>\n",
       "      <td>3.000000</td>\n",
       "      <td>2018.000000</td>\n",
       "      <td>8.430000</td>\n",
       "      <td>8.360000</td>\n",
       "      <td>10.130000</td>\n",
       "      <td>10.060000</td>\n",
       "      <td>666.200000</td>\n",
       "      <td>386.000000</td>\n",
       "      <td>9.618604e+06</td>\n",
       "      <td>4472.000000</td>\n",
       "      <td>2023.000000</td>\n",
       "    </tr>\n",
       "  </tbody>\n",
       "</table>\n",
       "</div>"
      ],
      "text/plain": [
       "        Property Id  Number of Buildings   Year Built  Site EUI (GJ/m²)  \\\n",
       "count  4.940000e+02           494.000000   494.000000        494.000000   \n",
       "mean   1.308877e+07             1.060729  1980.091093          1.774798   \n",
       "std    5.659556e+06             0.278281    25.159568          1.306700   \n",
       "min    6.169481e+06             1.000000  1896.000000          0.060000   \n",
       "25%    9.563763e+06             1.000000  1970.000000          0.990000   \n",
       "50%    9.997794e+06             1.000000  1978.000000          1.290000   \n",
       "75%    2.198860e+07             1.000000  1996.000000          2.065000   \n",
       "max    2.198863e+07             3.000000  2018.000000          8.430000   \n",
       "\n",
       "       Weather Normalized Site EUI (GJ/m²)  Source EUI (GJ/m²)  \\\n",
       "count                           494.000000          494.000000   \n",
       "mean                              1.810324            2.282753   \n",
       "std                               1.331529            1.597846   \n",
       "min                               0.060000            0.110000   \n",
       "25%                               1.000000            1.312500   \n",
       "50%                               1.310000            1.680000   \n",
       "75%                               2.110000            2.622500   \n",
       "max                               8.360000           10.130000   \n",
       "\n",
       "       Weather Normalized Source EUI (GJ/m²)  \\\n",
       "count                             494.000000   \n",
       "mean                                2.319717   \n",
       "std                                 1.622897   \n",
       "min                                 0.110000   \n",
       "25%                                 1.350000   \n",
       "50%                                 1.690000   \n",
       "75%                                 2.652500   \n",
       "max                                10.060000   \n",
       "\n",
       "       Total GHG Emissions Intensity (kgCO2e/m²)  \\\n",
       "count                                 494.000000   \n",
       "mean                                  158.671660   \n",
       "std                                   109.472637   \n",
       "min                                    10.200000   \n",
       "25%                                    93.100000   \n",
       "50%                                   117.600000   \n",
       "75%                                   186.975000   \n",
       "max                                   666.200000   \n",
       "\n",
       "       Direct GHG Emissions Intensity (kgCO2e/m²)  \\\n",
       "count                                  494.000000   \n",
       "mean                                    63.821862   \n",
       "std                                     56.835735   \n",
       "min                                      0.000000   \n",
       "25%                                     33.325000   \n",
       "50%                                     43.900000   \n",
       "75%                                     74.050000   \n",
       "max                                    386.000000   \n",
       "\n",
       "       Green Power - Onsite and Offsite (kWh)  \\\n",
       "count                            2.960000e+02   \n",
       "mean                             5.997183e+05   \n",
       "std                              1.196070e+06   \n",
       "min                              1.040400e+03   \n",
       "25%                              1.030868e+05   \n",
       "50%                              2.203235e+05   \n",
       "75%                              5.415978e+05   \n",
       "max                              9.618604e+06   \n",
       "\n",
       "       Avoided Emissions - Onsite and Offsite Green Power (Metric Tons CO2e)  \\\n",
       "count                                         296.000000                       \n",
       "mean                                          278.847635                       \n",
       "std                                           556.048804                       \n",
       "min                                             0.500000                       \n",
       "25%                                            48.000000                       \n",
       "50%                                           102.500000                       \n",
       "75%                                           252.000000                       \n",
       "max                                          4472.000000                       \n",
       "\n",
       "       Year Ending  \n",
       "count   494.000000  \n",
       "mean   2020.995951  \n",
       "std       1.414208  \n",
       "min    2019.000000  \n",
       "25%    2020.000000  \n",
       "50%    2021.000000  \n",
       "75%    2022.000000  \n",
       "max    2023.000000  "
      ]
     },
     "execution_count": 68,
     "metadata": {},
     "output_type": "execute_result"
    }
   ],
   "source": [
    "# To get the statistical summary of the numerical columns: \n",
    "df_na_removed.describe()"
   ]
  },
  {
   "cell_type": "code",
   "execution_count": 69,
   "metadata": {},
   "outputs": [
    {
     "name": "stdout",
     "output_type": "stream",
     "text": [
      "<class 'pandas.core.frame.DataFrame'>\n",
      "RangeIndex: 494 entries, 0 to 493\n",
      "Data columns (total 28 columns):\n",
      " #   Column                                                                 Non-Null Count  Dtype  \n",
      "---  ------                                                                 --------------  -----  \n",
      " 0   Property Id                                                            494 non-null    int64  \n",
      " 1   Property Name                                                          494 non-null    object \n",
      " 2   Address 1                                                              494 non-null    object \n",
      " 3   City                                                                   494 non-null    object \n",
      " 4   Postal Code                                                            494 non-null    object \n",
      " 5   Province                                                               494 non-null    object \n",
      " 6   Primary Property Type - Self Selected                                  494 non-null    object \n",
      " 7   Number of Buildings                                                    494 non-null    int64  \n",
      " 8   Year Built                                                             494 non-null    int64  \n",
      " 9   Property GFA - Self-Reported (m²)                                      494 non-null    object \n",
      " 10  Site Energy Use (GJ)                                                   494 non-null    object \n",
      " 11  Weather Normalized Site Energy Use (GJ)                                494 non-null    object \n",
      " 12  Site EUI (GJ/m²)                                                       494 non-null    float64\n",
      " 13  Weather Normalized Site EUI (GJ/m²)                                    494 non-null    float64\n",
      " 14  Source Energy Use (GJ)                                                 494 non-null    object \n",
      " 15  Weather Normalized Source Energy Use (GJ)                              492 non-null    object \n",
      " 16  Source EUI (GJ/m²)                                                     494 non-null    float64\n",
      " 17  Weather Normalized Source EUI (GJ/m²)                                  494 non-null    float64\n",
      " 18  Total GHG Emissions (Metric Tons CO2e)                                 494 non-null    object \n",
      " 19  Total GHG Emissions Intensity (kgCO2e/m²)                              494 non-null    float64\n",
      " 20  Direct GHG Emissions (Metric Tons CO2e)                                494 non-null    object \n",
      " 21  Direct GHG Emissions Intensity (kgCO2e/m²)                             494 non-null    float64\n",
      " 22  Electricity Use - Grid Purchase (kWh)                                  494 non-null    object \n",
      " 23  Natural Gas Use (GJ)                                                   484 non-null    object \n",
      " 24  Green Power - Onsite and Offsite (kWh)                                 296 non-null    float64\n",
      " 25  Avoided Emissions - Onsite and Offsite Green Power (Metric Tons CO2e)  296 non-null    float64\n",
      " 26  Year Ending                                                            494 non-null    int64  \n",
      " 27  Unique ID                                                              494 non-null    object \n",
      "dtypes: float64(8), int64(4), object(16)\n",
      "memory usage: 108.2+ KB\n"
     ]
    }
   ],
   "source": [
    "df_na_removed.info()"
   ]
  },
  {
   "cell_type": "code",
   "execution_count": 70,
   "metadata": {},
   "outputs": [
    {
     "data": {
      "text/plain": [
       "Index(['Property Name', 'Address 1', 'City', 'Postal Code', 'Province',\n",
       "       'Primary Property Type - Self Selected',\n",
       "       'Property GFA - Self-Reported (m²)', 'Site Energy Use (GJ)',\n",
       "       'Weather Normalized Site Energy Use (GJ)', 'Source Energy Use (GJ)',\n",
       "       'Weather Normalized Source Energy Use (GJ)',\n",
       "       'Total GHG Emissions (Metric Tons CO2e)',\n",
       "       'Direct GHG Emissions (Metric Tons CO2e)',\n",
       "       'Electricity Use - Grid Purchase (kWh)', 'Natural Gas Use (GJ)',\n",
       "       'Unique ID'],\n",
       "      dtype='object')"
      ]
     },
     "execution_count": 70,
     "metadata": {},
     "output_type": "execute_result"
    }
   ],
   "source": [
    "# to get names of all the columns that are of dtype 'object':\n",
    "# Syntax is df.select_dtypes(include = ['object']).columns\n",
    "\n",
    "df_na_removed.select_dtypes(include=['object']).columns\n"
   ]
  },
  {
   "cell_type": "markdown",
   "metadata": {},
   "source": [
    "Among the columns of object type, some need to be converted into float type to be able to do further numerical calculations.\n",
    "The following columns need to be converted to float type:\n",
    "\n",
    "    'Property GFA - Self-Reported (m²)', 'Site Energy Use (GJ)',\n",
    "\n",
    "    'Weather Normalized Site Energy Use (GJ)', 'Source Energy Use (GJ)',\n",
    "       \n",
    "    'Weather Normalized Source Energy Use (GJ)', 'Total GHG Emissions (Metric Tons CO2e)',\n",
    "       \n",
    "    'Direct GHG Emissions (Metric Tons CO2e)', 'Electricity Use - Grid Purchase (kWh)', \n",
    "\n",
    "    'Natural Gas Use (GJ)'\n"
   ]
  },
  {
   "cell_type": "markdown",
   "metadata": {},
   "source": [
    "On inspection of the values in these columns, we found that some values were having commas. We first removed the commas and then converted these values to float type"
   ]
  },
  {
   "cell_type": "code",
   "execution_count": 21,
   "metadata": {},
   "outputs": [],
   "source": [
    "convert_to_float = ['Property GFA - Self-Reported (m²)', 'Site Energy Use (GJ)','Weather Normalized Site Energy Use (GJ)', \n",
    "                       'Source Energy Use (GJ)','Weather Normalized Source Energy Use (GJ)', 'Total GHG Emissions (Metric Tons CO2e)',\n",
    "                       'Direct GHG Emissions (Metric Tons CO2e)', 'Electricity Use - Grid Purchase (kWh)', 'Natural Gas Use (GJ)']\n",
    "\n",
    "\n",
    "# On inspection of the values in these columns, we found that some values were having commas. \n",
    "# We first removed the commas and then converted these values to float type\n",
    "for column in convert_to_float:\n",
    "    df_na_removed[column] = df_na_removed[column].str.replace(',','').astype(float)"
   ]
  },
  {
   "cell_type": "code",
   "execution_count": 22,
   "metadata": {},
   "outputs": [
    {
     "data": {
      "text/plain": [
       "Index(['Property Name', 'Address 1', 'City', 'Postal Code', 'Province',\n",
       "       'Primary Property Type - Self Selected', 'Unique ID'],\n",
       "      dtype='object')"
      ]
     },
     "execution_count": 22,
     "metadata": {},
     "output_type": "execute_result"
    }
   ],
   "source": [
    "df_na_removed.select_dtypes(include=['object']).columns"
   ]
  },
  {
   "cell_type": "code",
   "execution_count": 43,
   "metadata": {},
   "outputs": [
    {
     "data": {
      "text/plain": [
       "['Weather Normalized Source Energy Use (GJ)',\n",
       " 'Natural Gas Use (GJ)',\n",
       " 'Green Power - Onsite and Offsite (kWh)',\n",
       " 'Avoided Emissions - Onsite and Offsite Green Power (Metric Tons CO2e)']"
      ]
     },
     "metadata": {},
     "output_type": "display_data"
    },
    {
     "name": "stdout",
     "output_type": "stream",
     "text": [
      "float64\n",
      "float64\n",
      "float64\n",
      "float64\n"
     ]
    }
   ],
   "source": [
    "# The columns with missing values (< 40%) that need to be handled\n",
    "print('The columns with missing values that need to be handled ')\n",
    "display(cols_to_impute)\n",
    "\n",
    "\n",
    "# checking the dtype of columns with missing values\n",
    "for col in cols_to_impute:\n",
    "    print(df_na_removed[col].dtype)"
   ]
  },
  {
   "cell_type": "code",
   "execution_count": 44,
   "metadata": {},
   "outputs": [],
   "source": [
    "# To fill the missing values in a column with the median of the column:\n",
    "\n",
    "for col in cols_to_impute:\n",
    "     df_na_removed[col].fillna(df_na_removed[col].median(), inplace = True)\n",
    "\n"
   ]
  },
  {
   "cell_type": "code",
   "execution_count": 46,
   "metadata": {},
   "outputs": [
    {
     "data": {
      "text/plain": [
       "Property Id                                                              0\n",
       "Property Name                                                            0\n",
       "Address 1                                                                0\n",
       "City                                                                     0\n",
       "Postal Code                                                              0\n",
       "Province                                                                 0\n",
       "Primary Property Type - Self Selected                                    0\n",
       "Number of Buildings                                                      0\n",
       "Year Built                                                               0\n",
       "Property GFA - Self-Reported (m²)                                        0\n",
       "Site Energy Use (GJ)                                                     0\n",
       "Weather Normalized Site Energy Use (GJ)                                  0\n",
       "Site EUI (GJ/m²)                                                         0\n",
       "Weather Normalized Site EUI (GJ/m²)                                      0\n",
       "Source Energy Use (GJ)                                                   0\n",
       "Weather Normalized Source Energy Use (GJ)                                0\n",
       "Source EUI (GJ/m²)                                                       0\n",
       "Weather Normalized Source EUI (GJ/m²)                                    0\n",
       "Total GHG Emissions (Metric Tons CO2e)                                   0\n",
       "Total GHG Emissions Intensity (kgCO2e/m²)                                0\n",
       "Direct GHG Emissions (Metric Tons CO2e)                                  0\n",
       "Direct GHG Emissions Intensity (kgCO2e/m²)                               0\n",
       "Electricity Use - Grid Purchase (kWh)                                    0\n",
       "Natural Gas Use (GJ)                                                     0\n",
       "Green Power - Onsite and Offsite (kWh)                                   0\n",
       "Avoided Emissions - Onsite and Offsite Green Power (Metric Tons CO2e)    0\n",
       "Year Ending                                                              0\n",
       "Unique ID                                                                0\n",
       "dtype: int64"
      ]
     },
     "execution_count": 46,
     "metadata": {},
     "output_type": "execute_result"
    }
   ],
   "source": [
    "# checking for missing values in the dataframe:\n",
    "\n",
    "df_na_removed.isna().sum()"
   ]
  },
  {
   "cell_type": "markdown",
   "metadata": {},
   "source": [
    "#### 1.3 Extracting and Cleaning Data Using Regex\n",
    "• Use Regex only to:\n",
    "\n",
    "o Extract numeric values from text-based numeric columns (e.g., Property GFA,\n",
    "Energy Use, Emissions).\n",
    "\n",
    "o Standardize Postal Codes to follow the Canadian format (A1A 1A1).\n",
    "\n",
    "o Clean and extract meaningful text from Property Names and Addresses.\n",
    "\n",
    "o Ensure extracted values are properly converted to numerical types for analysis."
   ]
  },
  {
   "cell_type": "code",
   "execution_count": 52,
   "metadata": {},
   "outputs": [],
   "source": [
    "#df_na_removed.head(3)"
   ]
  },
  {
   "cell_type": "code",
   "execution_count": 62,
   "metadata": {},
   "outputs": [],
   "source": [
    "# To convert Postal codes into uppercase:\n",
    "df_na_removed['Postal Code'] = df_na_removed['Postal Code'].str.upper()"
   ]
  },
  {
   "cell_type": "code",
   "execution_count": 75,
   "metadata": {},
   "outputs": [
    {
     "data": {
      "text/plain": [
       "7      T2AOK9\n",
       "195    T2AOK9\n",
       "324    T2AOK9\n",
       "Name: Postal Code, dtype: object"
      ]
     },
     "execution_count": 75,
     "metadata": {},
     "output_type": "execute_result"
    }
   ],
   "source": [
    "#Remove the spaces between a postal code\n",
    "df_na_removed['Postal Code'] = df_na_removed['Postal Code'].str.replace(' ','')\n",
    "\n",
    "\n",
    "# Regex\n",
    "pattern = r'([A-Z]\\d[A-Z])(\\d[A-Z]\\d)'\n",
    "df_na_removed['Postal Code'] = df_na_removed['Postal Code'].str.replace(pattern, r'\\1 \\2', regex = True)\n",
    "\n",
    "# Checking if the length of Postal Code is 7 (because postal code is in the format 'A1A 1A1' and therefore is of length 7)\n",
    "df_na_removed['Postal Code'][df_na_removed['Postal Code'].str.len() != 7].index"
   ]
  },
  {
   "cell_type": "code",
   "execution_count": 82,
   "metadata": {},
   "outputs": [],
   "source": [
    "postal_code_needsformat = df_na_removed['Postal Code'][df_na_removed['Postal Code'].str.len() != 7].index.tolist()"
   ]
  },
  {
   "cell_type": "code",
   "execution_count": 83,
   "metadata": {},
   "outputs": [
    {
     "data": {
      "text/plain": [
       "'T2A'"
      ]
     },
     "execution_count": 83,
     "metadata": {},
     "output_type": "execute_result"
    }
   ],
   "source": [
    "df_na_removed['Postal Code'][7][: 3]"
   ]
  },
  {
   "cell_type": "code",
   "execution_count": 84,
   "metadata": {},
   "outputs": [],
   "source": [
    "# add a space in those postal codes which are not of length 7\n",
    "for i in postal_code_needsformat:\n",
    "    df_na_removed['Postal Code'][i] = df_na_removed['Postal Code'][i][: 3]+ ' ' +df_na_removed['Postal Code'][i][3: ]"
   ]
  },
  {
   "cell_type": "code",
   "execution_count": 86,
   "metadata": {},
   "outputs": [
    {
     "data": {
      "text/plain": [
       "Series([], Name: Postal Code, dtype: object)"
      ]
     },
     "execution_count": 86,
     "metadata": {},
     "output_type": "execute_result"
    }
   ],
   "source": [
    "# checking to see if postal codes have been standardised to the Canadian format \n",
    "df_na_removed['Postal Code'][df_na_removed['Postal Code'].str.len() != 7]\n"
   ]
  },
  {
   "cell_type": "markdown",
   "metadata": {},
   "source": [
    "### 2.2 Aggregations\n",
    "\n",
    "#### Compute the average Energy Use Intensity (EUI) by Property Type.\n",
    "\n"
   ]
  },
  {
   "cell_type": "code",
   "execution_count": 137,
   "metadata": {},
   "outputs": [
    {
     "data": {
      "text/html": [
       "<div>\n",
       "<style scoped>\n",
       "    .dataframe tbody tr th:only-of-type {\n",
       "        vertical-align: middle;\n",
       "    }\n",
       "\n",
       "    .dataframe tbody tr th {\n",
       "        vertical-align: top;\n",
       "    }\n",
       "\n",
       "    .dataframe thead th {\n",
       "        text-align: right;\n",
       "    }\n",
       "</style>\n",
       "<table border=\"1\" class=\"dataframe\">\n",
       "  <thead>\n",
       "    <tr style=\"text-align: right;\">\n",
       "      <th></th>\n",
       "      <th>Primary Property Type - Self Selected</th>\n",
       "      <th>Site EUI (GJ/m²)</th>\n",
       "    </tr>\n",
       "  </thead>\n",
       "  <tbody>\n",
       "    <tr>\n",
       "      <th>0</th>\n",
       "      <td>Heated Swimming Pool</td>\n",
       "      <td>4.805333</td>\n",
       "    </tr>\n",
       "    <tr>\n",
       "      <th>1</th>\n",
       "      <td>Fitness Center/Health Club/Gym</td>\n",
       "      <td>4.385000</td>\n",
       "    </tr>\n",
       "    <tr>\n",
       "      <th>2</th>\n",
       "      <td>Distribution Center</td>\n",
       "      <td>3.286000</td>\n",
       "    </tr>\n",
       "    <tr>\n",
       "      <th>3</th>\n",
       "      <td>Ice/Curling Rink</td>\n",
       "      <td>2.182200</td>\n",
       "    </tr>\n",
       "    <tr>\n",
       "      <th>4</th>\n",
       "      <td>Other - Recreation</td>\n",
       "      <td>2.165000</td>\n",
       "    </tr>\n",
       "    <tr>\n",
       "      <th>5</th>\n",
       "      <td>Museum</td>\n",
       "      <td>1.584000</td>\n",
       "    </tr>\n",
       "    <tr>\n",
       "      <th>6</th>\n",
       "      <td>Social/Meeting Hall</td>\n",
       "      <td>1.550000</td>\n",
       "    </tr>\n",
       "    <tr>\n",
       "      <th>7</th>\n",
       "      <td>Other - Public Services</td>\n",
       "      <td>1.526000</td>\n",
       "    </tr>\n",
       "    <tr>\n",
       "      <th>8</th>\n",
       "      <td>Office</td>\n",
       "      <td>1.519636</td>\n",
       "    </tr>\n",
       "    <tr>\n",
       "      <th>9</th>\n",
       "      <td>Performing Arts</td>\n",
       "      <td>1.302000</td>\n",
       "    </tr>\n",
       "    <tr>\n",
       "      <th>10</th>\n",
       "      <td>Repair Services (Vehicle, Shoe, Locksmith, etc.)</td>\n",
       "      <td>1.248000</td>\n",
       "    </tr>\n",
       "    <tr>\n",
       "      <th>11</th>\n",
       "      <td>Fire Station</td>\n",
       "      <td>1.208827</td>\n",
       "    </tr>\n",
       "    <tr>\n",
       "      <th>12</th>\n",
       "      <td>Self-Storage Facility</td>\n",
       "      <td>1.208000</td>\n",
       "    </tr>\n",
       "    <tr>\n",
       "      <th>13</th>\n",
       "      <td>Indoor Arena</td>\n",
       "      <td>1.106000</td>\n",
       "    </tr>\n",
       "    <tr>\n",
       "      <th>14</th>\n",
       "      <td>Non-Refrigerated Warehouse</td>\n",
       "      <td>0.768000</td>\n",
       "    </tr>\n",
       "    <tr>\n",
       "      <th>15</th>\n",
       "      <td>Mixed Use Property</td>\n",
       "      <td>0.458000</td>\n",
       "    </tr>\n",
       "    <tr>\n",
       "      <th>16</th>\n",
       "      <td>Other</td>\n",
       "      <td>0.070000</td>\n",
       "    </tr>\n",
       "  </tbody>\n",
       "</table>\n",
       "</div>"
      ],
      "text/plain": [
       "               Primary Property Type - Self Selected  Site EUI (GJ/m²)\n",
       "0                               Heated Swimming Pool          4.805333\n",
       "1                     Fitness Center/Health Club/Gym          4.385000\n",
       "2                                Distribution Center          3.286000\n",
       "3                                   Ice/Curling Rink          2.182200\n",
       "4                                 Other - Recreation          2.165000\n",
       "5                                             Museum          1.584000\n",
       "6                                Social/Meeting Hall          1.550000\n",
       "7                            Other - Public Services          1.526000\n",
       "8                                             Office          1.519636\n",
       "9                                    Performing Arts          1.302000\n",
       "10  Repair Services (Vehicle, Shoe, Locksmith, etc.)          1.248000\n",
       "11                                      Fire Station          1.208827\n",
       "12                             Self-Storage Facility          1.208000\n",
       "13                                      Indoor Arena          1.106000\n",
       "14                        Non-Refrigerated Warehouse          0.768000\n",
       "15                                Mixed Use Property          0.458000\n",
       "16                                             Other          0.070000"
      ]
     },
     "execution_count": 137,
     "metadata": {},
     "output_type": "execute_result"
    }
   ],
   "source": [
    "# Compute the average Energy Use Intensity (EUI) by Property Type.\n",
    "\n",
    "df_na_removed.groupby('Primary Property Type - Self Selected')['Site EUI (GJ/m²)'].mean().sort_values(ascending = False).reset_index()"
   ]
  },
  {
   "cell_type": "markdown",
   "metadata": {},
   "source": [
    "#### Compute the total Greenhouse Gas (GHG) emissions by year."
   ]
  },
  {
   "cell_type": "code",
   "execution_count": 51,
   "metadata": {},
   "outputs": [
    {
     "data": {
      "text/plain": [
       "Year Ending\n",
       "2019    763.690909\n",
       "2020    672.901010\n",
       "2021    688.251515\n",
       "2022    730.313131\n",
       "2023    766.653061\n",
       "Name: Total GHG Emissions (Metric Tons CO2e), dtype: float64"
      ]
     },
     "execution_count": 51,
     "metadata": {},
     "output_type": "execute_result"
    }
   ],
   "source": [
    "# Compute the total Greenhouse Gas (GHG) emissions by year.\n",
    "df_na_removed.groupby('Year Ending')['Total GHG Emissions (Metric Tons CO2e)'].mean()"
   ]
  },
  {
   "cell_type": "markdown",
   "metadata": {},
   "source": [
    "#### Identify the top 5 properties with the highest total energy consumption."
   ]
  },
  {
   "cell_type": "code",
   "execution_count": 142,
   "metadata": {},
   "outputs": [
    {
     "data": {
      "text/html": [
       "<div>\n",
       "<style scoped>\n",
       "    .dataframe tbody tr th:only-of-type {\n",
       "        vertical-align: middle;\n",
       "    }\n",
       "\n",
       "    .dataframe tbody tr th {\n",
       "        vertical-align: top;\n",
       "    }\n",
       "\n",
       "    .dataframe thead th {\n",
       "        text-align: right;\n",
       "    }\n",
       "</style>\n",
       "<table border=\"1\" class=\"dataframe\">\n",
       "  <thead>\n",
       "    <tr style=\"text-align: right;\">\n",
       "      <th></th>\n",
       "      <th>Property Name</th>\n",
       "      <th>Site Energy Use (GJ)</th>\n",
       "      <th>Year Ending</th>\n",
       "    </tr>\n",
       "  </thead>\n",
       "  <tbody>\n",
       "    <tr>\n",
       "      <th>293</th>\n",
       "      <td>Stoney Transit Facility</td>\n",
       "      <td>243202.0</td>\n",
       "      <td>2023</td>\n",
       "    </tr>\n",
       "    <tr>\n",
       "      <th>457</th>\n",
       "      <td>Stoney Transit Facility</td>\n",
       "      <td>160486.0</td>\n",
       "      <td>2022</td>\n",
       "    </tr>\n",
       "    <tr>\n",
       "      <th>372</th>\n",
       "      <td>Stoney Transit Facility</td>\n",
       "      <td>146772.3</td>\n",
       "      <td>2021</td>\n",
       "    </tr>\n",
       "    <tr>\n",
       "      <th>244</th>\n",
       "      <td>Stoney Transit Facility</td>\n",
       "      <td>101625.5</td>\n",
       "      <td>2020</td>\n",
       "    </tr>\n",
       "    <tr>\n",
       "      <th>173</th>\n",
       "      <td>Village Square Leisure Centre</td>\n",
       "      <td>100146.6</td>\n",
       "      <td>2019</td>\n",
       "    </tr>\n",
       "  </tbody>\n",
       "</table>\n",
       "</div>"
      ],
      "text/plain": [
       "                     Property Name  Site Energy Use (GJ)  Year Ending\n",
       "293        Stoney Transit Facility              243202.0         2023\n",
       "457        Stoney Transit Facility              160486.0         2022\n",
       "372        Stoney Transit Facility              146772.3         2021\n",
       "244        Stoney Transit Facility              101625.5         2020\n",
       "173  Village Square Leisure Centre              100146.6         2019"
      ]
     },
     "execution_count": 142,
     "metadata": {},
     "output_type": "execute_result"
    }
   ],
   "source": [
    "#Identify the top 5 properties with the highest total energy consumption.\n",
    "df_na_removed.nlargest(5, 'Site Energy Use (GJ)')[['Property Name', 'Site Energy Use (GJ)', 'Year Ending']]"
   ]
  },
  {
   "cell_type": "markdown",
   "metadata": {},
   "source": [
    "### 2.3 Detecting Outliers Using Regex and IQR\n",
    "• Use Regex only to:\n",
    "\n",
    "        o Identify values that do not conform to expected numeric formats.\n",
    "        o Remove or correct incorrectly formatted numeric values.\n",
    "\n",
    "• Apply the Interquartile Range (IQR) method to detect outliers in Total GHG Emissions\n",
    "(Metric Tons CO2e).\n",
    "\n",
    "• Replace outliers with the median value for that property type."
   ]
  },
  {
   "cell_type": "code",
   "execution_count": 240,
   "metadata": {},
   "outputs": [
    {
     "name": "stdout",
     "output_type": "stream",
     "text": [
      "Few rows with Outliers :\n"
     ]
    },
    {
     "data": {
      "text/html": [
       "<div>\n",
       "<style scoped>\n",
       "    .dataframe tbody tr th:only-of-type {\n",
       "        vertical-align: middle;\n",
       "    }\n",
       "\n",
       "    .dataframe tbody tr th {\n",
       "        vertical-align: top;\n",
       "    }\n",
       "\n",
       "    .dataframe thead th {\n",
       "        text-align: right;\n",
       "    }\n",
       "</style>\n",
       "<table border=\"1\" class=\"dataframe\">\n",
       "  <thead>\n",
       "    <tr style=\"text-align: right;\">\n",
       "      <th></th>\n",
       "      <th>Property Id</th>\n",
       "      <th>Property Name</th>\n",
       "      <th>Address 1</th>\n",
       "      <th>City</th>\n",
       "      <th>Postal Code</th>\n",
       "      <th>Province</th>\n",
       "      <th>Primary Property Type - Self Selected</th>\n",
       "      <th>Number of Buildings</th>\n",
       "      <th>Year Built</th>\n",
       "      <th>Property GFA - Self-Reported (m²)</th>\n",
       "      <th>...</th>\n",
       "      <th>Total GHG Emissions (Metric Tons CO2e)</th>\n",
       "      <th>Total GHG Emissions Intensity (kgCO2e/m²)</th>\n",
       "      <th>Direct GHG Emissions (Metric Tons CO2e)</th>\n",
       "      <th>Direct GHG Emissions Intensity (kgCO2e/m²)</th>\n",
       "      <th>Electricity Use - Grid Purchase (kWh)</th>\n",
       "      <th>Natural Gas Use (GJ)</th>\n",
       "      <th>Green Power - Onsite and Offsite (kWh)</th>\n",
       "      <th>Avoided Emissions - Onsite and Offsite Green Power (Metric Tons CO2e)</th>\n",
       "      <th>Year Ending</th>\n",
       "      <th>Unique ID</th>\n",
       "    </tr>\n",
       "  </thead>\n",
       "  <tbody>\n",
       "    <tr>\n",
       "      <th>16</th>\n",
       "      <td>10170296</td>\n",
       "      <td>Emergency Operations Centre</td>\n",
       "      <td>673 1 ST NE</td>\n",
       "      <td>Calgary</td>\n",
       "      <td>T2E 6R2</td>\n",
       "      <td>Alberta</td>\n",
       "      <td>Office</td>\n",
       "      <td>1</td>\n",
       "      <td>2012</td>\n",
       "      <td>5213.0</td>\n",
       "      <td>...</td>\n",
       "      <td>2931.0</td>\n",
       "      <td>562.1</td>\n",
       "      <td>230.0</td>\n",
       "      <td>44.0</td>\n",
       "      <td>4356404.0</td>\n",
       "      <td>4469.0</td>\n",
       "      <td>4356405.0</td>\n",
       "      <td>2025.0</td>\n",
       "      <td>2023</td>\n",
       "      <td>2023-10170296</td>\n",
       "    </tr>\n",
       "    <tr>\n",
       "      <th>57</th>\n",
       "      <td>9492075</td>\n",
       "      <td>Foothills Aquatic Centre and Bauer and Bush Ar...</td>\n",
       "      <td>2424 University DR NW</td>\n",
       "      <td>Calgary</td>\n",
       "      <td>T2N 3Y9</td>\n",
       "      <td>Alberta</td>\n",
       "      <td>Ice/Curling Rink</td>\n",
       "      <td>2</td>\n",
       "      <td>1963</td>\n",
       "      <td>8558.0</td>\n",
       "      <td>...</td>\n",
       "      <td>2444.0</td>\n",
       "      <td>285.5</td>\n",
       "      <td>898.0</td>\n",
       "      <td>104.9</td>\n",
       "      <td>2493859.0</td>\n",
       "      <td>17477.0</td>\n",
       "      <td>2493859.0</td>\n",
       "      <td>1159.0</td>\n",
       "      <td>2023</td>\n",
       "      <td>2023-9492075</td>\n",
       "    </tr>\n",
       "    <tr>\n",
       "      <th>69</th>\n",
       "      <td>21988597</td>\n",
       "      <td>Manchester Building E - North and South Tower,...</td>\n",
       "      <td>2808 SPILLER RD SE</td>\n",
       "      <td>Calgary</td>\n",
       "      <td>T2G 4H3</td>\n",
       "      <td>Alberta</td>\n",
       "      <td>Office</td>\n",
       "      <td>3</td>\n",
       "      <td>1956</td>\n",
       "      <td>6988.0</td>\n",
       "      <td>...</td>\n",
       "      <td>1979.0</td>\n",
       "      <td>283.3</td>\n",
       "      <td>545.0</td>\n",
       "      <td>78.1</td>\n",
       "      <td>2312959.0</td>\n",
       "      <td>10621.0</td>\n",
       "      <td>2312959.0</td>\n",
       "      <td>1075.0</td>\n",
       "      <td>2023</td>\n",
       "      <td>2023-21988597</td>\n",
       "    </tr>\n",
       "  </tbody>\n",
       "</table>\n",
       "<p>3 rows × 28 columns</p>\n",
       "</div>"
      ],
      "text/plain": [
       "    Property Id                                      Property Name  \\\n",
       "16     10170296                        Emergency Operations Centre   \n",
       "57      9492075  Foothills Aquatic Centre and Bauer and Bush Ar...   \n",
       "69     21988597  Manchester Building E - North and South Tower,...   \n",
       "\n",
       "                Address 1     City Postal Code Province  \\\n",
       "16            673 1 ST NE  Calgary     T2E 6R2  Alberta   \n",
       "57  2424 University DR NW  Calgary     T2N 3Y9  Alberta   \n",
       "69     2808 SPILLER RD SE  Calgary     T2G 4H3  Alberta   \n",
       "\n",
       "   Primary Property Type - Self Selected  Number of Buildings  Year Built  \\\n",
       "16                                Office                    1        2012   \n",
       "57                      Ice/Curling Rink                    2        1963   \n",
       "69                                Office                    3        1956   \n",
       "\n",
       "    Property GFA - Self-Reported (m²)  ...  \\\n",
       "16                             5213.0  ...   \n",
       "57                             8558.0  ...   \n",
       "69                             6988.0  ...   \n",
       "\n",
       "    Total GHG Emissions (Metric Tons CO2e)  \\\n",
       "16                                  2931.0   \n",
       "57                                  2444.0   \n",
       "69                                  1979.0   \n",
       "\n",
       "    Total GHG Emissions Intensity (kgCO2e/m²)  \\\n",
       "16                                      562.1   \n",
       "57                                      285.5   \n",
       "69                                      283.3   \n",
       "\n",
       "    Direct GHG Emissions (Metric Tons CO2e)  \\\n",
       "16                                    230.0   \n",
       "57                                    898.0   \n",
       "69                                    545.0   \n",
       "\n",
       "    Direct GHG Emissions Intensity (kgCO2e/m²)  \\\n",
       "16                                        44.0   \n",
       "57                                       104.9   \n",
       "69                                        78.1   \n",
       "\n",
       "    Electricity Use - Grid Purchase (kWh)  Natural Gas Use (GJ)  \\\n",
       "16                              4356404.0                4469.0   \n",
       "57                              2493859.0               17477.0   \n",
       "69                              2312959.0               10621.0   \n",
       "\n",
       "    Green Power - Onsite and Offsite (kWh)  \\\n",
       "16                               4356405.0   \n",
       "57                               2493859.0   \n",
       "69                               2312959.0   \n",
       "\n",
       "    Avoided Emissions - Onsite and Offsite Green Power (Metric Tons CO2e)  \\\n",
       "16                                             2025.0                       \n",
       "57                                             1159.0                       \n",
       "69                                             1075.0                       \n",
       "\n",
       "    Year Ending      Unique ID  \n",
       "16         2023  2023-10170296  \n",
       "57         2023   2023-9492075  \n",
       "69         2023  2023-21988597  \n",
       "\n",
       "[3 rows x 28 columns]"
      ]
     },
     "metadata": {},
     "output_type": "display_data"
    },
    {
     "name": "stdout",
     "output_type": "stream",
     "text": [
      "Number of outliers in Total GHG emissions: 46\n"
     ]
    }
   ],
   "source": [
    "# IQR\n",
    "Q1 = df_na_removed['Total GHG Emissions (Metric Tons CO2e)'].quantile(0.25)\n",
    "Q3 = df_na_removed['Total GHG Emissions (Metric Tons CO2e)'].quantile(0.75)\n",
    "IQR = Q3 - Q1\n",
    "\n",
    "# \n",
    "negative_outlier = Q1 - 1.5 * IQR\n",
    "positive_outlier = Q3 + 1.5 * IQR\n",
    "\n",
    "# outliers\n",
    "outliers = df_na_removed[(df_na_removed['Total GHG Emissions (Metric Tons CO2e)'] < negative_outlier) | (df_na_removed['Total GHG Emissions (Metric Tons CO2e)'] > positive_outlier)]\n",
    "print(\"Few rows with Outliers :\")\n",
    "display(outliers.head(3))\n",
    "print(f\"Number of outliers in Total GHG emissions: {len(outliers)}\")"
   ]
  },
  {
   "cell_type": "code",
   "execution_count": 258,
   "metadata": {},
   "outputs": [
    {
     "name": "stdout",
     "output_type": "stream",
     "text": [
      "DataFrame after replacing outliers:\n",
      "\n"
     ]
    },
    {
     "data": {
      "text/html": [
       "<div>\n",
       "<style scoped>\n",
       "    .dataframe tbody tr th:only-of-type {\n",
       "        vertical-align: middle;\n",
       "    }\n",
       "\n",
       "    .dataframe tbody tr th {\n",
       "        vertical-align: top;\n",
       "    }\n",
       "\n",
       "    .dataframe thead th {\n",
       "        text-align: right;\n",
       "    }\n",
       "</style>\n",
       "<table border=\"1\" class=\"dataframe\">\n",
       "  <thead>\n",
       "    <tr style=\"text-align: right;\">\n",
       "      <th></th>\n",
       "      <th>Property Id</th>\n",
       "      <th>Property Name</th>\n",
       "      <th>Address 1</th>\n",
       "      <th>City</th>\n",
       "      <th>Postal Code</th>\n",
       "      <th>Province</th>\n",
       "      <th>Primary Property Type - Self Selected</th>\n",
       "      <th>Number of Buildings</th>\n",
       "      <th>Year Built</th>\n",
       "      <th>Property GFA - Self-Reported (m²)</th>\n",
       "      <th>...</th>\n",
       "      <th>Total GHG Emissions (Metric Tons CO2e)</th>\n",
       "      <th>Total GHG Emissions Intensity (kgCO2e/m²)</th>\n",
       "      <th>Direct GHG Emissions (Metric Tons CO2e)</th>\n",
       "      <th>Direct GHG Emissions Intensity (kgCO2e/m²)</th>\n",
       "      <th>Electricity Use - Grid Purchase (kWh)</th>\n",
       "      <th>Natural Gas Use (GJ)</th>\n",
       "      <th>Green Power - Onsite and Offsite (kWh)</th>\n",
       "      <th>Avoided Emissions - Onsite and Offsite Green Power (Metric Tons CO2e)</th>\n",
       "      <th>Year Ending</th>\n",
       "      <th>Unique ID</th>\n",
       "    </tr>\n",
       "  </thead>\n",
       "  <tbody>\n",
       "    <tr>\n",
       "      <th>0</th>\n",
       "      <td>10176804</td>\n",
       "      <td>Acadia Aquatic &amp; Fitness Centre</td>\n",
       "      <td>9009 Fairmount Dr SE</td>\n",
       "      <td>Calgary</td>\n",
       "      <td>T2H 0Z4</td>\n",
       "      <td>Alberta</td>\n",
       "      <td>Heated Swimming Pool</td>\n",
       "      <td>1</td>\n",
       "      <td>2010</td>\n",
       "      <td>1838.0</td>\n",
       "      <td>...</td>\n",
       "      <td>509.0</td>\n",
       "      <td>276.7</td>\n",
       "      <td>280.0</td>\n",
       "      <td>152.4</td>\n",
       "      <td>368616.0</td>\n",
       "      <td>5453.0</td>\n",
       "      <td>368616.0</td>\n",
       "      <td>171.0</td>\n",
       "      <td>2023</td>\n",
       "      <td>2023-10176804</td>\n",
       "    </tr>\n",
       "    <tr>\n",
       "      <th>1</th>\n",
       "      <td>6169481</td>\n",
       "      <td>Ad Valorem</td>\n",
       "      <td>2924 11 ST NE</td>\n",
       "      <td>Calgary</td>\n",
       "      <td>T2E 7L7</td>\n",
       "      <td>Alberta</td>\n",
       "      <td>Office</td>\n",
       "      <td>1</td>\n",
       "      <td>1981</td>\n",
       "      <td>7770.0</td>\n",
       "      <td>...</td>\n",
       "      <td>920.0</td>\n",
       "      <td>118.4</td>\n",
       "      <td>243.0</td>\n",
       "      <td>31.2</td>\n",
       "      <td>1091854.0</td>\n",
       "      <td>4725.0</td>\n",
       "      <td>1091854.0</td>\n",
       "      <td>508.0</td>\n",
       "      <td>2023</td>\n",
       "      <td>2023-6169481</td>\n",
       "    </tr>\n",
       "  </tbody>\n",
       "</table>\n",
       "<p>2 rows × 28 columns</p>\n",
       "</div>"
      ],
      "text/plain": [
       "   Property Id                    Property Name             Address 1  \\\n",
       "0     10176804  Acadia Aquatic & Fitness Centre  9009 Fairmount Dr SE   \n",
       "1      6169481                       Ad Valorem         2924 11 ST NE   \n",
       "\n",
       "      City Postal Code Province Primary Property Type - Self Selected  \\\n",
       "0  Calgary     T2H 0Z4  Alberta                  Heated Swimming Pool   \n",
       "1  Calgary     T2E 7L7  Alberta                                Office   \n",
       "\n",
       "   Number of Buildings  Year Built  Property GFA - Self-Reported (m²)  ...  \\\n",
       "0                    1        2010                             1838.0  ...   \n",
       "1                    1        1981                             7770.0  ...   \n",
       "\n",
       "   Total GHG Emissions (Metric Tons CO2e)  \\\n",
       "0                                   509.0   \n",
       "1                                   920.0   \n",
       "\n",
       "   Total GHG Emissions Intensity (kgCO2e/m²)  \\\n",
       "0                                      276.7   \n",
       "1                                      118.4   \n",
       "\n",
       "   Direct GHG Emissions (Metric Tons CO2e)  \\\n",
       "0                                    280.0   \n",
       "1                                    243.0   \n",
       "\n",
       "   Direct GHG Emissions Intensity (kgCO2e/m²)  \\\n",
       "0                                       152.4   \n",
       "1                                        31.2   \n",
       "\n",
       "   Electricity Use - Grid Purchase (kWh)  Natural Gas Use (GJ)  \\\n",
       "0                               368616.0                5453.0   \n",
       "1                              1091854.0                4725.0   \n",
       "\n",
       "   Green Power - Onsite and Offsite (kWh)  \\\n",
       "0                                368616.0   \n",
       "1                               1091854.0   \n",
       "\n",
       "   Avoided Emissions - Onsite and Offsite Green Power (Metric Tons CO2e)  \\\n",
       "0                                              171.0                       \n",
       "1                                              508.0                       \n",
       "\n",
       "   Year Ending      Unique ID  \n",
       "0         2023  2023-10176804  \n",
       "1         2023   2023-6169481  \n",
       "\n",
       "[2 rows x 28 columns]"
      ]
     },
     "metadata": {},
     "output_type": "display_data"
    }
   ],
   "source": [
    "# Replace outliers with the median value for that property type.\n",
    "\n",
    "for index, row in outliers.iterrows():\n",
    "    property_type = row['Primary Property Type - Self Selected']\n",
    "    median_value = df_na_removed[df_na_removed['Primary Property Type - Self Selected'] == property_type]['Total GHG Emissions (Metric Tons CO2e)'].median()\n",
    "    df_na_removed.at[index, 'Total GHG Emissions (Metric Tons CO2e)'] = median_value\n",
    "\n",
    "print(\"DataFrame after replacing outliers:\\n\")\n",
    "display(df_na_removed.head(2))"
   ]
  },
  {
   "cell_type": "markdown",
   "metadata": {},
   "source": [
    "## Part 3: Data Visualization\n",
    "\n",
    "### 3.1 Time-Series Visualization\n",
    "\n",
    "    • Plot the yearly trend of average Site Energy Use Intensity (EUI).\n",
    "    • Highlight any significant increases or decreases in energy usage.\n",
    "\n",
    "\n",
    "    "
   ]
  },
  {
   "cell_type": "code",
   "execution_count": 91,
   "metadata": {},
   "outputs": [
    {
     "data": {
      "text/html": [
       "<div>\n",
       "<style scoped>\n",
       "    .dataframe tbody tr th:only-of-type {\n",
       "        vertical-align: middle;\n",
       "    }\n",
       "\n",
       "    .dataframe tbody tr th {\n",
       "        vertical-align: top;\n",
       "    }\n",
       "\n",
       "    .dataframe thead th {\n",
       "        text-align: right;\n",
       "    }\n",
       "</style>\n",
       "<table border=\"1\" class=\"dataframe\">\n",
       "  <thead>\n",
       "    <tr style=\"text-align: right;\">\n",
       "      <th></th>\n",
       "      <th>Year Ending</th>\n",
       "      <th>Site EUI (GJ/m²)</th>\n",
       "    </tr>\n",
       "  </thead>\n",
       "  <tbody>\n",
       "    <tr>\n",
       "      <th>0</th>\n",
       "      <td>2019</td>\n",
       "      <td>1.981313</td>\n",
       "    </tr>\n",
       "    <tr>\n",
       "      <th>1</th>\n",
       "      <td>2020</td>\n",
       "      <td>1.696869</td>\n",
       "    </tr>\n",
       "    <tr>\n",
       "      <th>2</th>\n",
       "      <td>2021</td>\n",
       "      <td>1.681515</td>\n",
       "    </tr>\n",
       "    <tr>\n",
       "      <th>3</th>\n",
       "      <td>2022</td>\n",
       "      <td>1.781616</td>\n",
       "    </tr>\n",
       "    <tr>\n",
       "      <th>4</th>\n",
       "      <td>2023</td>\n",
       "      <td>1.732245</td>\n",
       "    </tr>\n",
       "  </tbody>\n",
       "</table>\n",
       "</div>"
      ],
      "text/plain": [
       "   Year Ending  Site EUI (GJ/m²)\n",
       "0         2019          1.981313\n",
       "1         2020          1.696869\n",
       "2         2021          1.681515\n",
       "3         2022          1.781616\n",
       "4         2023          1.732245"
      ]
     },
     "execution_count": 91,
     "metadata": {},
     "output_type": "execute_result"
    }
   ],
   "source": [
    "import matplotlib.pyplot as plt\n",
    "\n",
    "\n",
    "# Calculate the yearly trend of average Site EUI\n",
    "Annual_avg_site_EUI = df_na_removed.groupby('Year Ending')['Site EUI (GJ/m²)'].mean().reset_index()\n",
    "\n",
    "Annual_avg_site_EUI"
   ]
  },
  {
   "cell_type": "code",
   "execution_count": 98,
   "metadata": {},
   "outputs": [
    {
     "data": {
      "image/png": "[encoded data removed]",
      "text/plain": [
       "<Figure size 720x432 with 1 Axes>"
      ]
     },
     "metadata": {
      "needs_background": "light"
     },
     "output_type": "display_data"
    }
   ],
   "source": [
    "# Plot the yearly trend of average Site EUI\n",
    "plt.figure(figsize=(10, 6))\n",
    "\n",
    "plt.plot(Annual_avg_site_EUI['Year Ending'].values, Annual_avg_site_EUI['Site EUI (GJ/m²)'].values, marker='o')\n",
    "plt.title('Yearly Trend of Average Site EUI', fontsize = 14)\n",
    "\n",
    "plt.xlabel('Year', fontsize = 14)\n",
    "plt.xticks(Annual_avg_site_EUI['Year Ending'].values, fontsize = 14)\n",
    "plt.ylabel('Average Site EUI (GJ/m²)', fontsize = 14)\n",
    "plt.grid(True)"
   ]
  },
  {
   "cell_type": "markdown",
   "metadata": {},
   "source": [
    "### 3.2 Comparative Bar Charts\n",
    "\n",
    "    • Create a bar chart showing the top 10 buildings with the highest GHG emissions.\n",
    "    • Annotate the bar chart with emission values."
   ]
  },
  {
   "cell_type": "code",
   "execution_count": 153,
   "metadata": {},
   "outputs": [
    {
     "data": {
      "text/html": [
       "<div>\n",
       "<style scoped>\n",
       "    .dataframe tbody tr th:only-of-type {\n",
       "        vertical-align: middle;\n",
       "    }\n",
       "\n",
       "    .dataframe tbody tr th {\n",
       "        vertical-align: top;\n",
       "    }\n",
       "\n",
       "    .dataframe thead th {\n",
       "        text-align: right;\n",
       "    }\n",
       "</style>\n",
       "<table border=\"1\" class=\"dataframe\">\n",
       "  <thead>\n",
       "    <tr style=\"text-align: right;\">\n",
       "      <th></th>\n",
       "      <th>Property Name</th>\n",
       "      <th>Total GHG Emissions (Metric Tons CO2e)</th>\n",
       "    </tr>\n",
       "  </thead>\n",
       "  <tbody>\n",
       "    <tr>\n",
       "      <th>0</th>\n",
       "      <td>Municipal Complex</td>\n",
       "      <td>10046.68</td>\n",
       "    </tr>\n",
       "    <tr>\n",
       "      <th>1</th>\n",
       "      <td>Stoney Transit Facility</td>\n",
       "      <td>8033.38</td>\n",
       "    </tr>\n",
       "    <tr>\n",
       "      <th>2</th>\n",
       "      <td>Village Square Leisure Centre</td>\n",
       "      <td>4676.66</td>\n",
       "    </tr>\n",
       "    <tr>\n",
       "      <th>3</th>\n",
       "      <td>Southland Leisure Centre</td>\n",
       "      <td>4283.28</td>\n",
       "    </tr>\n",
       "    <tr>\n",
       "      <th>4</th>\n",
       "      <td>Emergency Operations Centre</td>\n",
       "      <td>3072.64</td>\n",
       "    </tr>\n",
       "    <tr>\n",
       "      <th>5</th>\n",
       "      <td>Manchester Building E - North and South Tower,...</td>\n",
       "      <td>2701.26</td>\n",
       "    </tr>\n",
       "    <tr>\n",
       "      <th>6</th>\n",
       "      <td>Foothills Aquatic Centre and Bauer and Bush Ar...</td>\n",
       "      <td>2297.82</td>\n",
       "    </tr>\n",
       "    <tr>\n",
       "      <th>7</th>\n",
       "      <td>Max Bell and Ken Bracko Arenas</td>\n",
       "      <td>2262.46</td>\n",
       "    </tr>\n",
       "    <tr>\n",
       "      <th>8</th>\n",
       "      <td>Whitehorn Multi-Services Centre</td>\n",
       "      <td>2255.92</td>\n",
       "    </tr>\n",
       "    <tr>\n",
       "      <th>9</th>\n",
       "      <td>Andrew Davison</td>\n",
       "      <td>1462.90</td>\n",
       "    </tr>\n",
       "  </tbody>\n",
       "</table>\n",
       "</div>"
      ],
      "text/plain": [
       "                                       Property Name  \\\n",
       "0                                  Municipal Complex   \n",
       "1                            Stoney Transit Facility   \n",
       "2                      Village Square Leisure Centre   \n",
       "3                           Southland Leisure Centre   \n",
       "4                        Emergency Operations Centre   \n",
       "5  Manchester Building E - North and South Tower,...   \n",
       "6  Foothills Aquatic Centre and Bauer and Bush Ar...   \n",
       "7                     Max Bell and Ken Bracko Arenas   \n",
       "8                    Whitehorn Multi-Services Centre   \n",
       "9                                     Andrew Davison   \n",
       "\n",
       "   Total GHG Emissions (Metric Tons CO2e)  \n",
       "0                                10046.68  \n",
       "1                                 8033.38  \n",
       "2                                 4676.66  \n",
       "3                                 4283.28  \n",
       "4                                 3072.64  \n",
       "5                                 2701.26  \n",
       "6                                 2297.82  \n",
       "7                                 2262.46  \n",
       "8                                 2255.92  \n",
       "9                                 1462.90  "
      ]
     },
     "metadata": {},
     "output_type": "display_data"
    }
   ],
   "source": [
    "Top10_ghg_buildings = df_na_removed.groupby('Property Name')['Total GHG Emissions (Metric Tons CO2e)'].mean().sort_values(ascending = False)[:10].reset_index()\n",
    "display(Top10_ghg_buildings)"
   ]
  },
  {
   "cell_type": "code",
   "execution_count": 172,
   "metadata": {},
   "outputs": [
    {
     "data": {
      "image/png": "[encoded data removed]",
      "text/plain": [
       "<Figure size 1296x864 with 1 Axes>"
      ]
     },
     "metadata": {
      "needs_background": "light"
     },
     "output_type": "display_data"
    }
   ],
   "source": [
    "plt.figure(figsize=(18, 12))\n",
    "bars = plt.bar(Top10_ghg_buildings['Property Name'], Top10_ghg_buildings['Total GHG Emissions (Metric Tons CO2e)'], color='skyblue')\n",
    "\n",
    "# Add annotations to indicate the emission values\n",
    "for bar in bars:\n",
    "    yval = bar.get_height()\n",
    "    plt.text(bar.get_x() + bar.get_width()/2 , yval, int(yval), ha='center', va='bottom')\n",
    "    \n",
    "    \n",
    "plt.title('Top 10 Buildings with the Highest GHG Emissions')\n",
    "plt.ylabel('GHG Emissions (Metric Tons CO2e)', fontsize = 14)\n",
    "\n",
    "# Rotate x-axis labels for better readability\n",
    "plt.xticks(rotation=90, ha='right')\n",
    "plt.yticks(fontsize = 14)\n",
    "plt.xlabel('Building', fontsize = 14)\n",
    "plt.show()"
   ]
  },
  {
   "cell_type": "markdown",
   "metadata": {},
   "source": [
    "### 3.3 Heatmap Visualization\n",
    "\n",
    "    • Create a heatmap of energy usage intensity (Site EUI (GJ/m²)) across different property\n",
    "    types."
   ]
  },
  {
   "cell_type": "code",
   "execution_count": 186,
   "metadata": {},
   "outputs": [
    {
     "data": {
      "image/png": "[encoded data removed]",
      "text/plain": [
       "<Figure size 432x864 with 2 Axes>"
      ]
     },
     "metadata": {
      "needs_background": "light"
     },
     "output_type": "display_data"
    }
   ],
   "source": [
    "#energy_usage = df_na_removed.groupby('Property Type')['Site EUI (GJ/m²)']\n",
    "\n",
    "pivot_table = df_na_removed.pivot_table(values='Site EUI (GJ/m²)', index= 'Primary Property Type - Self Selected')\n",
    "\n",
    "# Create a heatmap\n",
    "plt.figure(figsize=(6, 12))\n",
    "sns.heatmap(pivot_table, annot=True, cmap='viridis', cbar=True)\n",
    "\n",
    "plt.title('Heatmap of Energy Usage Intensity (Site EUI (GJ/m²)) Across Different Property Types', fontsize = 14 )\n",
    "plt.xlabel('Site EUI (GJ/m²)')\n",
    "plt.ylabel('Property Type')\n",
    "plt.yticks(fontsize = 12)\n",
    "plt.show()"
   ]
  },
  {
   "cell_type": "markdown",
   "metadata": {},
   "source": [
    "## Part 4: Further Analysis\n",
    "\n",
    "### 4.1 Correlation Analysis\n",
    "• Compute and visualize the correlation matrix between energy consumption, emissions,\n",
    "and building size.\n",
    "\n",
    "• Identify any strong correlations and explain their implications."
   ]
  },
  {
   "cell_type": "code",
   "execution_count": 187,
   "metadata": {},
   "outputs": [
    {
     "data": {
      "text/plain": [
       "Index(['Property Id', 'Property Name', 'Address 1', 'City', 'Postal Code',\n",
       "       'Province', 'Primary Property Type - Self Selected',\n",
       "       'Number of Buildings', 'Year Built',\n",
       "       'Property GFA - Self-Reported (m²)', 'Site Energy Use (GJ)',\n",
       "       'Weather Normalized Site Energy Use (GJ)', 'Site EUI (GJ/m²)',\n",
       "       'Weather Normalized Site EUI (GJ/m²)', 'Source Energy Use (GJ)',\n",
       "       'Weather Normalized Source Energy Use (GJ)', 'Source EUI (GJ/m²)',\n",
       "       'Weather Normalized Source EUI (GJ/m²)',\n",
       "       'Total GHG Emissions (Metric Tons CO2e)',\n",
       "       'Total GHG Emissions Intensity (kgCO2e/m²)',\n",
       "       'Direct GHG Emissions (Metric Tons CO2e)',\n",
       "       'Direct GHG Emissions Intensity (kgCO2e/m²)',\n",
       "       'Electricity Use - Grid Purchase (kWh)', 'Natural Gas Use (GJ)',\n",
       "       'Green Power - Onsite and Offsite (kWh)',\n",
       "       'Avoided Emissions - Onsite and Offsite Green Power (Metric Tons CO2e)',\n",
       "       'Year Ending', 'Unique ID'],\n",
       "      dtype='object')"
      ]
     },
     "execution_count": 187,
     "metadata": {},
     "output_type": "execute_result"
    }
   ],
   "source": [
    "df_na_removed.columns"
   ]
  },
  {
   "cell_type": "code",
   "execution_count": 206,
   "metadata": {},
   "outputs": [
    {
     "name": "stdout",
     "output_type": "stream",
     "text": [
      "   Energy Usage  Emissions  Building Size\n",
      "0        6780.0      509.0         1838.0\n",
      "1        8656.0      920.0         7770.0\n",
      "2        4014.0      499.0         6681.0\n",
      "3       11237.0     1293.0        17468.0\n",
      "4        6757.0      568.0         2143.0\n",
      "5        5656.0      554.0         6632.0\n",
      "6        2924.0      229.0         1807.0\n",
      "7        8065.0      674.0         1641.0\n",
      "8         693.0       63.0          832.0\n",
      "9        7809.0      781.0        15195.0\n"
     ]
    }
   ],
   "source": [
    "correlation_df = df_na_removed.loc[:, ['Site Energy Use (GJ)','Total GHG Emissions (Metric Tons CO2e)', 'Property GFA - Self-Reported (m²)']]\n",
    "correlation_df.rename(columns = {'Site Energy Use (GJ)': 'Energy Usage', 'Total GHG Emissions (Metric Tons CO2e)': 'Emissions','Property GFA - Self-Reported (m²)': 'Building Size' }, inplace = True)\n",
    "print(correlation_df.head(10))"
   ]
  },
  {
   "cell_type": "code",
   "execution_count": 208,
   "metadata": {},
   "outputs": [
    {
     "data": {
      "image/png": "[encoded data removed]",
      "text/plain": [
       "<Figure size 864x576 with 2 Axes>"
      ]
     },
     "metadata": {
      "needs_background": "light"
     },
     "output_type": "display_data"
    }
   ],
   "source": [
    "# Compute the correlation matrix\n",
    "corr_matrix = correlation_df.corr()\n",
    "\n",
    "# Visualize the correlation matrix using a heatmap\n",
    "plt.figure(figsize=(12, 8))\n",
    "sns.heatmap(corr_matrix, annot=True, cmap='Blues', cbar=True)\n",
    "\n",
    "plt.title('Correlation Matrix between Energy Consumption, Emissions, and Building Size')\n",
    "plt.show()"
   ]
  },
  {
   "cell_type": "markdown",
   "metadata": {},
   "source": [
    "The correlation matrix shows a strong correlation between Emissions and Building size \n",
    "and between Emissions and Energy Usage. \n",
    "\n",
    "Strong correlation between emissions and building size indicates that as the building size increases,its emissions too increase- i.e. larger buildings tend to have higher green house gas emissions. This might be due to the fact that the energy required to maintain, power and regulate the temperatures in larger spaces is high. Larger building need to invest to improve their energy efficiency.\n",
    "\n",
    "Strong correlation between emissions and energy usage indicates that higher energy consumption leads to higher emissions. In order to reduce emissions, energy consumption should be reduced. This can be achieved by investing into developing new and improved efficient energy systems, \n",
    "adopting renewable energy resources and energy conservation measures.  \n"
   ]
  },
  {
   "cell_type": "markdown",
   "metadata": {},
   "source": [
    "### 4.2 Hypothesis Testing\n",
    "\n",
    "• Conduct a t-test (t-test is used to compare the means of two groups to determine if\n",
    "they are significantly different from each other. More at Student's t-test - Wikipedia)\n",
    "comparing the average Energy Star Score between two different property types (e.g.,\n",
    "Offices vs. Residential buildings).\n",
    "\n",
    "• Interpret the results and discuss statistical significance."
   ]
  },
  {
   "cell_type": "markdown",
   "metadata": {},
   "source": [
    "## ** Note **\n",
    "Earlier, during the initial steps of Data cleaning and pre-processing, we removed the 'ENERGY STAR Score' column as more than 40% values in the column were missing. \n",
    "\n",
    "However, since we have to do a t-test here,we decided to create a new dataframe with non-na values of the 'ENERGY STAR Score' column and their corresponding values from \n",
    "the 'Unique ID' column ( this is a subset of values from the original dataset). This new dataframe is named as df_energystar.\n",
    "\n",
    "We then created another dataframe that consists of the columns 'Unique ID' and 'Primary Property Type - Self Selected'. This dataframe is named as df_propertytypes and is a\n",
    "subset of our original cleaned dataframe- df_na_removed\n",
    "\n",
    "We then merged the two dataframes - df_energystar and df_propertytypes on 'Unique ID' column. The merged dataframe is named as df_estar_ptype and the column 'Primary Property Type - Self Selected' was renamed as 'Property Type' for ease.  \n",
    "\n",
    "As the two property types that with enough data to do a test are offices and Ice/Curling Rinks, we decided to perform a t- test to compare the average Energy Star Score between the property types - offices and Ice/Curling Rinks.\n"
   ]
  },
  {
   "cell_type": "code",
   "execution_count": 232,
   "metadata": {},
   "outputs": [
    {
     "name": "stdout",
     "output_type": "stream",
     "text": [
      "The number of na values in the column- 'ENERGY STAR Score' is: \n",
      "329\n"
     ]
    }
   ],
   "source": [
    "# checking the number of na values in 'ENERGY STAR Score' column\n",
    "\n",
    "print(f'The number of na values in the column- \\'ENERGY STAR Score\\' is: ') \n",
    "print(df['ENERGY STAR Score'].isnull().sum())"
   ]
  },
  {
   "cell_type": "code",
   "execution_count": 214,
   "metadata": {},
   "outputs": [
    {
     "data": {
      "text/plain": [
       "True"
      ]
     },
     "execution_count": 214,
     "metadata": {},
     "output_type": "execute_result"
    }
   ],
   "source": [
    "# checking if the original df has a column with all unique values that can act as the key when merging dfs\n",
    "df[\"Unique ID\"].nunique() == len(df)"
   ]
  },
  {
   "cell_type": "code",
   "execution_count": 215,
   "metadata": {},
   "outputs": [],
   "source": [
    "# creating a dataframe with non null values of ENERGY STAR Score column\n",
    "\n",
    "df_energystar = df[~ df['ENERGY STAR Score'].isnull()][[\"Unique ID\",'ENERGY STAR Score']]"
   ]
  },
  {
   "cell_type": "code",
   "execution_count": 216,
   "metadata": {},
   "outputs": [
    {
     "data": {
      "text/plain": [
       "165"
      ]
     },
     "execution_count": 216,
     "metadata": {},
     "output_type": "execute_result"
    }
   ],
   "source": [
    "# length of the new dataframe\n",
    "len(df_energystar)"
   ]
  },
  {
   "cell_type": "code",
   "execution_count": 217,
   "metadata": {},
   "outputs": [],
   "source": [
    "# creating a new dataframe from the cleaned df with Unique ids and property types\n",
    "df_propertytypes = df_na_removed[['Unique ID', 'Primary Property Type - Self Selected']]"
   ]
  },
  {
   "cell_type": "code",
   "execution_count": 218,
   "metadata": {},
   "outputs": [
    {
     "data": {
      "text/plain": [
       "494"
      ]
     },
     "execution_count": 218,
     "metadata": {},
     "output_type": "execute_result"
    }
   ],
   "source": [
    "len(df_propertytypes)"
   ]
  },
  {
   "cell_type": "code",
   "execution_count": 219,
   "metadata": {},
   "outputs": [
    {
     "data": {
      "text/html": [
       "<div>\n",
       "<style scoped>\n",
       "    .dataframe tbody tr th:only-of-type {\n",
       "        vertical-align: middle;\n",
       "    }\n",
       "\n",
       "    .dataframe tbody tr th {\n",
       "        vertical-align: top;\n",
       "    }\n",
       "\n",
       "    .dataframe thead th {\n",
       "        text-align: right;\n",
       "    }\n",
       "</style>\n",
       "<table border=\"1\" class=\"dataframe\">\n",
       "  <thead>\n",
       "    <tr style=\"text-align: right;\">\n",
       "      <th></th>\n",
       "      <th>Unique ID</th>\n",
       "      <th>ENERGY STAR Score</th>\n",
       "      <th>Primary Property Type - Self Selected</th>\n",
       "    </tr>\n",
       "  </thead>\n",
       "  <tbody>\n",
       "    <tr>\n",
       "      <th>0</th>\n",
       "      <td>2023-6169481</td>\n",
       "      <td>32.0</td>\n",
       "      <td>Office</td>\n",
       "    </tr>\n",
       "    <tr>\n",
       "      <th>1</th>\n",
       "      <td>2023-6305956</td>\n",
       "      <td>80.0</td>\n",
       "      <td>Office</td>\n",
       "    </tr>\n",
       "    <tr>\n",
       "      <th>2</th>\n",
       "      <td>2023-8854296</td>\n",
       "      <td>84.0</td>\n",
       "      <td>Office</td>\n",
       "    </tr>\n",
       "    <tr>\n",
       "      <th>3</th>\n",
       "      <td>2023-21988603</td>\n",
       "      <td>1.0</td>\n",
       "      <td>Office</td>\n",
       "    </tr>\n",
       "    <tr>\n",
       "      <th>4</th>\n",
       "      <td>2023-10439156</td>\n",
       "      <td>61.0</td>\n",
       "      <td>Office</td>\n",
       "    </tr>\n",
       "    <tr>\n",
       "      <th>...</th>\n",
       "      <td>...</td>\n",
       "      <td>...</td>\n",
       "      <td>...</td>\n",
       "    </tr>\n",
       "    <tr>\n",
       "      <th>160</th>\n",
       "      <td>2022-21988603</td>\n",
       "      <td>1.0</td>\n",
       "      <td>Office</td>\n",
       "    </tr>\n",
       "    <tr>\n",
       "      <th>161</th>\n",
       "      <td>2022-21988608</td>\n",
       "      <td>67.0</td>\n",
       "      <td>Office</td>\n",
       "    </tr>\n",
       "    <tr>\n",
       "      <th>162</th>\n",
       "      <td>2022-21988609</td>\n",
       "      <td>17.0</td>\n",
       "      <td>Office</td>\n",
       "    </tr>\n",
       "    <tr>\n",
       "      <th>163</th>\n",
       "      <td>2022-21988616</td>\n",
       "      <td>29.0</td>\n",
       "      <td>Office</td>\n",
       "    </tr>\n",
       "    <tr>\n",
       "      <th>164</th>\n",
       "      <td>2022-21988624</td>\n",
       "      <td>44.0</td>\n",
       "      <td>Office</td>\n",
       "    </tr>\n",
       "  </tbody>\n",
       "</table>\n",
       "<p>165 rows × 3 columns</p>\n",
       "</div>"
      ],
      "text/plain": [
       "         Unique ID  ENERGY STAR Score Primary Property Type - Self Selected\n",
       "0     2023-6169481               32.0                                Office\n",
       "1     2023-6305956               80.0                                Office\n",
       "2     2023-8854296               84.0                                Office\n",
       "3    2023-21988603                1.0                                Office\n",
       "4    2023-10439156               61.0                                Office\n",
       "..             ...                ...                                   ...\n",
       "160  2022-21988603                1.0                                Office\n",
       "161  2022-21988608               67.0                                Office\n",
       "162  2022-21988609               17.0                                Office\n",
       "163  2022-21988616               29.0                                Office\n",
       "164  2022-21988624               44.0                                Office\n",
       "\n",
       "[165 rows x 3 columns]"
      ]
     },
     "metadata": {},
     "output_type": "display_data"
    }
   ],
   "source": [
    "# merging the two dfs to create a new df for t-test\n",
    "\n",
    "df_estar_ptype = pd.merge(df_energystar, df_propertytypes, on= ['Unique ID'], how='left')\n",
    "display(df_estar_ptype)"
   ]
  },
  {
   "cell_type": "code",
   "execution_count": 222,
   "metadata": {},
   "outputs": [],
   "source": [
    "# Rename the column for ease\n",
    "df_estar_ptype.rename(columns = {'Primary Property Type - Self Selected': 'Property Type'}, inplace = True)\n",
    "\n"
   ]
  },
  {
   "cell_type": "code",
   "execution_count": 223,
   "metadata": {},
   "outputs": [
    {
     "data": {
      "text/plain": [
       "Property Type\n",
       "Office                        94\n",
       "Ice/Curling Rink              45\n",
       "Non-Refrigerated Warehouse    15\n",
       "Self-Storage Facility          5\n",
       "Distribution Center            5\n",
       "Museum                         1\n",
       "Name: count, dtype: int64"
      ]
     },
     "execution_count": 223,
     "metadata": {},
     "output_type": "execute_result"
    }
   ],
   "source": [
    "# check the value counts of property types to select 2 groups of buildings for our t-test\n",
    "# There's enough data for the 2 property types - offices and Ice/Curling Rinks\n",
    "\n",
    "df_estar_ptype['Property Type'].value_counts()"
   ]
  },
  {
   "cell_type": "code",
   "execution_count": 233,
   "metadata": {},
   "outputs": [
    {
     "name": "stdout",
     "output_type": "stream",
     "text": [
      "T-statistic: 3.2423927715555587\n",
      "P-value: 0.0014886772098221066\n",
      "The difference in average Energy Star Scores between Offices and Ice/Curling rinks is statistically significant.\n"
     ]
    }
   ],
   "source": [
    "# t- test to compare the average Energy Star Score between 2 property types - offices and Ice/Curling Rinks\n",
    "\n",
    "import pandas as pd\n",
    "from scipy.stats import ttest_ind\n",
    "\n",
    "\n",
    "# Separate the data into two groups\n",
    "office_scores = df_estar_ptype[df_estar_ptype['Property Type'] == 'Office']['ENERGY STAR Score']\n",
    "icerink_scores = df_estar_ptype[df_estar_ptype['Property Type'] == 'Ice/Curling Rink']['ENERGY STAR Score']\n",
    "\n",
    "# Conduct a t-test\n",
    "t_stat, p_value = ttest_ind(office_scores, icerink_scores)\n",
    "\n",
    "# Interpret the results\n",
    "print(f\"T-statistic: {t_stat}\")\n",
    "print(f\"P-value: {p_value}\")\n",
    "\n",
    "if p_value < 0.05:\n",
    "    print(\"The difference in average Energy Star Scores between Offices and Ice/Curling rinks is statistically significant.\")\n",
    "else:\n",
    "    print(\"The difference in average Energy Star Scores between Offices and Ice/Curling rinks is not statistically significant.\")"
   ]
  },
  {
   "cell_type": "markdown",
   "metadata": {},
   "source": [
    "Since the p-value observed here is very less than the commonly used threshold, alpha = 0.05, \n",
    "we can conclude that there is statistically significant difference in average Energy Star Scores between Offices and Ice/Curling rinks and that this difference is unlikely to have occured due to chance."
   ]
  },
  {
   "cell_type": "markdown",
   "metadata": {},
   "source": [
    "## Summary Report\n",
    "\n",
    "#### Key Trends in energy consumption and efficiency:\n",
    "Larger buildings tend to have higher green house gas emissions. Strong correlation between emissions and building size indicates that as the building size increases,its emissions too increase. This might be due to the fact that the energy required to maintain, power and regulate the temperatures in larger spaces is high. Larger building need to invest to improve their energy efficiency.\n",
    "\n",
    "Higher energy consumption leads to higher emissions as evident in strong correlation between emissions and energy usage. In order to reduce emissions, energy consumption should be reduced. This can be achieved by investing into developing new and improved efficient energy systems, adopting renewable energy resources and energy conservation measures.\n",
    "\n"
   ]
  },
  {
   "cell_type": "code",
   "execution_count": 259,
   "metadata": {},
   "outputs": [
    {
     "data": {
      "image/png": "[encoded data removed]",
      "text/plain": [
       "<Figure size 864x576 with 2 Axes>"
      ]
     },
     "metadata": {
      "needs_background": "light"
     },
     "output_type": "display_data"
    }
   ],
   "source": [
    "# Correlation Matrix between Energy Consumption, Emissions and Building Size"
   ]
  },
  {
   "cell_type": "markdown",
   "metadata": {},
   "source": [
    "#### Property Type variations\n",
    "\n",
    "From bar chart showing top 10 building with highest GHG emissions and heatmap of energy usage intensity, we observe that:\n",
    "\n",
    "The Municipal Complex tops the list with the highest GHG emissions at 10,046.68 metric tons of CO2e. This indicates a significant opportunity for energy efficiency improvements and emissions reduction strategies in this building. \n",
    "\n",
    "It was also obsserved that there are significant emissions from transit and leisure facilities. The Stoney Transit Facility and Village Square Leisure Centre are the second and third highest emitters, with 8,033.38 and 4,676.66 metric tons of CO2e, respectively. These facilities likely have high energy demands due to their operational nature.  Thus, these buildings are prime candidates for targeted energy-saving measures."
   ]
  },
  {
   "cell_type": "code",
   "execution_count": 260,
   "metadata": {},
   "outputs": [
    {
     "data": {
      "image/png": "[encoded data removed]",
      "text/plain": [
       "<Figure size 1296x864 with 1 Axes>"
      ]
     },
     "metadata": {
      "needs_background": "light"
     },
     "output_type": "display_data"
    }
   ],
   "source": [
    "# Top 10 buildings with highest GHG Emissions"
   ]
  },
  {
   "cell_type": "code",
   "execution_count": 261,
   "metadata": {},
   "outputs": [
    {
     "data": {
      "image/png": "[encoded data removed]",
      "text/plain": [
       "<Figure size 432x864 with 2 Axes>"
      ]
     },
     "metadata": {
      "needs_background": "light"
     },
     "output_type": "display_data"
    }
   ],
   "source": [
    "# Heatmap of Energy Usage Intensity Across Different Property TYpes"
   ]
  },
  {
   "cell_type": "markdown",
   "metadata": {},
   "source": [
    "#### Recommendations for improving energy efficiency and reducing emissions.\n",
    "\n",
    "Recommendations\n",
    "Conduct Energy Audits: Perform detailed energy audits for the top-emitting buildings to identify specific areas for improvement.\n",
    "\n",
    "Implement Energy-Efficient Technologies: Upgrade lighting, and insulation to enhance energy efficiency.\n",
    "\n",
    "Promote Renewable Energy: Encourage the adoption of renewable energy sources, such as solar panels, to reduce reliance on fossil fuels.\n",
    "\n",
    "Optimize Operational Practices: Implement best practices for energy management, such as scheduling and automation, to reduce energy consumption during non-peak hours.\n",
    "\n",
    "#### Data Cleaning and Extraction Using Regex\n",
    "Regex was used to identify and correct incorrectly formatted values in postal code column of the dataset. Although we did not use this column in our analysis for the present project, this step is crucial in preparing the dataset for further analysis. \n",
    "\n",
    "\n"
   ]
  },
  {
   "cell_type": "code",
   "execution_count": null,
   "metadata": {},
   "outputs": [],
   "source": []
  }
 ],
 "metadata": {
  "kernelspec": {
   "display_name": "Python 3",
   "language": "python",
   "name": "python3"
  },
  "language_info": {
   "codemirror_mode": {
    "name": "ipython",
    "version": 3
   },
   "file_extension": ".py",
   "mimetype": "text/x-python",
   "name": "python",
   "nbconvert_exporter": "python",
   "pygments_lexer": "ipython3",
   "version": "3.8.5"
  }
 },
 "nbformat": 4,
 "nbformat_minor": 4
}
